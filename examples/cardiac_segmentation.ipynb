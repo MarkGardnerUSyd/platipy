{
 "cells": [
  {
   "cell_type": "markdown",
   "metadata": {},
   "source": [
    "# Cardiac Sub-Structure Segmentation Example\n",
    "\n",
    "> Important: When running on Google Colab, ensure you change your runtime to use a GPU before\n",
    "proceeding (Runtime->Change runtime type, select GPU as Hardware accelerator and press Save)\n",
    "\n",
    "## Import Modules"
   ]
  },
  {
   "cell_type": "code",
   "execution_count": null,
   "metadata": {},
   "outputs": [],
   "source": [
    "try:\n",
    "    import platipy\n",
    "except:\n",
    "    !pip install git+https://github.com/pyplati/platipy.git\n",
    "    !pip install nnunet\n",
    "    import platipy\n",
    "\n",
    "from matplotlib import pyplot as plt\n",
    "\n",
    "import SimpleITK as sitk\n",
    "\n",
    "from platipy.imaging.tests.data import get_lung_nifti\n",
    "from platipy.imaging.projects.cardiac.run import run_hybrid_segmentation\n",
    "from platipy.imaging import ImageVisualiser\n",
    "from platipy.imaging.label.utils import get_com"
   ]
  },
  {
   "cell_type": "markdown",
   "metadata": {},
   "source": [
    "## Download Test Data\n",
    "\n",
    "This will download lung cancer patient CT scans, with contours of several structures.\n",
    "This only has to be done once - if it is ran again don't worry, the same data will not be downloaded again!"
   ]
  },
  {
   "cell_type": "code",
   "execution_count": null,
   "metadata": {
    "tags": []
   },
   "outputs": [],
   "source": [
    "data_path = get_lung_nifti()"
   ]
  },
  {
   "cell_type": "markdown",
   "metadata": {},
   "source": [
    "## Load Test Image\n",
    "\n",
    "Read in the image we want to automatically segment\n"
   ]
  },
  {
   "cell_type": "code",
   "execution_count": null,
   "metadata": {},
   "outputs": [],
   "source": [
    "test_pat_path = data_path.joinpath(\"LCTSC-Test-S1-201\")\n",
    "test_image = sitk.ReadImage(str(test_pat_path.joinpath(\"IMAGES/LCTSC_TEST_S1_201_0_CT_0.nii.gz\")))"
   ]
  },
  {
   "cell_type": "markdown",
   "metadata": {},
   "source": [
    "## Run Auto-segmentation\n",
    "\n",
    "This will take some time, and will print updates along the way\n"
   ]
  },
  {
   "cell_type": "code",
   "execution_count": null,
   "metadata": {
    "tags": []
   },
   "outputs": [],
   "source": [
    "auto_structures, _ = run_hybrid_segmentation(test_image)"
   ]
  },
  {
   "cell_type": "markdown",
   "metadata": {},
   "source": [
    "## Save segmentations\n",
    "Optionally write the automatic segmentations to disk\n"
   ]
  },
  {
   "cell_type": "code",
   "execution_count": null,
   "metadata": {},
   "outputs": [],
   "source": [
    "output_directory = test_pat_path.joinpath(\"substructures\")\n",
    "output_directory.mkdir(exist_ok=True)\n",
    "\n",
    "for struct_name in list(auto_structures.keys()):\n",
    "    sitk.WriteImage(auto_structures[struct_name], str(output_directory.joinpath(f\"{struct_name}.nii.gz\")))\n",
    "\n",
    "print(f\"Segmentations saved to: {output_directory}\")"
   ]
  },
  {
   "cell_type": "markdown",
   "metadata": {},
   "source": [
    "## Visualise Segmentations\n",
    "\n",
    "Next, we can generate a nice figure to check what the segmentation looks like using platipy's ImageVisualiser"
   ]
  },
  {
   "cell_type": "code",
   "execution_count": null,
   "metadata": {},
   "outputs": [],
   "source": [
    "vis = ImageVisualiser(test_image, cut=get_com(auto_structures[\"Heart\"]))\n",
    "vis.add_contour({struct: auto_structures[struct] for struct in auto_structures.keys()})\n",
    "vis.show()\n",
    "snapshot_path = output_directory.joinpath(f\"snapshot.png\")\n",
    "plt.savefig(snapshot_path)\n",
    "print(f\"Snapshot saved to: {snapshot_path}\")"
   ]
  },
  {
   "cell_type": "code",
   "execution_count": null,
   "metadata": {},
   "outputs": [],
   "source": []
  }
 ],
 "metadata": {
  "kernelspec": {
   "display_name": "Python 3",
   "language": "python",
   "name": "python3"
  },
  "language_info": {
   "codemirror_mode": {
    "name": "ipython",
    "version": 3
   },
   "file_extension": ".py",
   "mimetype": "text/x-python",
   "name": "python",
   "nbconvert_exporter": "python",
   "pygments_lexer": "ipython3",
   "version": "3.8.10"
  }
 },
 "nbformat": 4,
 "nbformat_minor": 2
}
