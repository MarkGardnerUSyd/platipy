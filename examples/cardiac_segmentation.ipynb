{
 "cells": [
  {
   "cell_type": "markdown",
   "metadata": {},
   "source": [
    "# Cardiac Multi Atlas-Based Segmentation Example\n",
    "\n",
    "## Import Modules"
   ]
  },
  {
   "cell_type": "code",
   "execution_count": null,
   "metadata": {},
   "outputs": [],
   "source": [
    "try:\n",
    "    import platipy\n",
    "except:\n",
    "    !pip install git+https://github.com/pyplati/platipy.git\n",
    "    import platipy\n",
    "\n",
    "import SimpleITK as sitk\n",
    "\n",
    "%matplotlib inline\n",
    "\n",
    "from platipy.imaging.tests.data import get_lung_nifti\n",
    "from platipy.imaging.projects.cardiac.run import run_cardiac_segmentation\n",
    "from platipy.imaging import ImageVisualiser\n",
    "from platipy.imaging.label.utils import get_com"
   ]
  },
  {
   "cell_type": "markdown",
   "metadata": {},
   "source": [
    "## Download Test Data\n",
    "\n",
    "This will download lung cancer patient CT scans, with contours of several structures.\n",
    "This only has to be done once - if it is ran again don't worry, the same data will not be downloaded again!"
   ]
  },
  {
   "cell_type": "code",
   "execution_count": null,
   "metadata": {
    "tags": []
   },
   "outputs": [],
   "source": [
    "data_path = get_lung_nifti()"
   ]
  },
  {
   "cell_type": "markdown",
   "metadata": {},
   "source": [
    "## Configure Settings\n",
    "\n",
    "We define the settings used for the end-to-end segmentation\n",
    "Check out the guide in \"PlatiPy-GettingStarted.pdf\" for a description of these settings"
   ]
  },
  {
   "cell_type": "code",
   "execution_count": null,
   "metadata": {},
   "outputs": [],
   "source": [
    "settings = {\n",
    "    \"output_format\": \"Auto_{0}.nii.gz\",\n",
    "    \"atlas_settings\": {\n",
    "        \"atlas_id_list\": [\"101\",\"102\",\"103\",\"104\"],\n",
    "        \"atlas_structure_list\": [\"HEART\",\"ESOPHAGUS\",\"LUNG_L\",\"LUNG_R\",\"SPINALCORD\"],\n",
    "        \"atlas_path\": str(data_path),\n",
    "        \"atlas_image_format\": \"LCTSC-Test-S1-{0}/IMAGES/LCTSC_TEST_S1_{0}_0_CT_0.nii.gz\",\n",
    "        \"atlas_label_format\": \"LCTSC-Test-S1-{0}/STRUCTURES/LCTSC_TEST_S1_{0}_0_RTSTRUCT_{1}.nii.gz\",\n",
    "        \"crop_atlas_to_structures\": False,\n",
    "        \"crop_atlas_expansion_mm\": (10, 10, 10),\n",
    "        \"guide_structure_name\": \"HEART\",\n",
    "    },\n",
    "    \"auto_crop_target_image_settings\": {\n",
    "        \"expansion_mm\": [2, 2, 2],\n",
    "    },\n",
    "    \"linear_registration_settings\": {\n",
    "        \"reg_method\": \"similarity\",\n",
    "        \"shrink_factors\": [16, 8, 4],\n",
    "        \"smooth_sigmas\": [0, 0, 0],\n",
    "        \"sampling_rate\": 0.75,\n",
    "        \"default_value\": -1024,\n",
    "        \"number_of_iterations\": 50,\n",
    "        \"metric\": \"mean_squares\",\n",
    "        \"optimiser\": \"gradient_descent_line_search\",\n",
    "        \"verbose\": False,\n",
    "    },\n",
    "    \"deformable_registration_settings\": {\n",
    "        \"isotropic_resample\": True,\n",
    "        \"resolution_staging\": [\n",
    "            16,\n",
    "            8,\n",
    "            4,\n",
    "        ],  # specify voxel size (mm) since isotropic_resample is set\n",
    "        \"iteration_staging\": [15, 15, 15],\n",
    "        \"smoothing_sigmas\": [4, 2, 1],\n",
    "        \"ncores\": 8,\n",
    "        \"default_value\": -1000,\n",
    "        \"verbose\": False,\n",
    "    },\n",
    "    \"structure_guided_registration_settings\": {\n",
    "        \"isotropic_resample\": True,\n",
    "        \"resolution_staging\": [\n",
    "            16,\n",
    "            8,\n",
    "            2,\n",
    "        ],  # specify voxel size (mm) since isotropic_resample is set\n",
    "        \"iteration_staging\": [25, 25, 25],\n",
    "        \"smoothing_sigmas\": [0, 0, 0],\n",
    "        \"ncores\": 8,\n",
    "        \"default_value\": 0,\n",
    "        \"verbose\": False,\n",
    "    },\n",
    "    \"iar_settings\": {\n",
    "        \"reference_structure\": \"HEART\",\n",
    "        \"smooth_distance_maps\": True,\n",
    "        \"smooth_sigma\": 1,\n",
    "        \"z_score_statistic\": \"mad\",\n",
    "        \"outlier_method\": \"iqr\",\n",
    "        \"outlier_factor\": 1.5,\n",
    "        \"min_best_atlases\": 5,\n",
    "        \"project_on_sphere\": False,\n",
    "    },\n",
    "    \"label_fusion_settings\": {\n",
    "        \"vote_type\": \"unweighted\",\n",
    "        \"vote_params\": {},  # No parameters needed for majority voting\n",
    "        \"optimal_threshold\": {\"HEART\": 0.5, \"ESOPHAGUS\": 0.5, \"LUNG_L\": 0.5, \"LUNG_R\": 0.5, \"SPINALCORD\": 0.5},\n",
    "    },\n",
    "    \"vessel_spline_settings\": {\n",
    "        \"vessel_name_list\": [\"SPINALCORD\"],\n",
    "        \"vessel_radius_mm_dict\": {\"SPINALCORD\": 6},\n",
    "        \"scan_direction_dict\": {\"SPINALCORD\": \"z\"},\n",
    "        \"stop_condition_type_dict\": {\"SPINALCORD\": \"count\"},\n",
    "        \"stop_condition_value_dict\": {\"SPINALCORD\": 1},\n",
    "    },\n",
    "    \"return_as_cropped\": False,\n",
    "    'returnAsCropped': False\n",
    "}"
   ]
  },
  {
   "cell_type": "markdown",
   "metadata": {},
   "source": [
    "## Load Test Image\n",
    "\n",
    "Read in the image we want to automatically segment\n"
   ]
  },
  {
   "cell_type": "code",
   "execution_count": null,
   "metadata": {},
   "outputs": [],
   "source": [
    "test_pat_path = data_path.joinpath(\"LCTSC-Test-S1-201\")\n",
    "test_image = sitk.ReadImage(str(test_pat_path.joinpath(\"IMAGES/LCTSC_TEST_S1_201_0_CT_0.nii.gz\")))"
   ]
  },
  {
   "cell_type": "markdown",
   "metadata": {},
   "source": [
    "## Run Auto-segmentation\n",
    "\n",
    "This will take some time, and will print updates along the way\n"
   ]
  },
  {
   "cell_type": "code",
   "execution_count": null,
   "metadata": {
    "tags": []
   },
   "outputs": [],
   "source": [
    "auto_structures = run_cardiac_segmentation(test_image, settings=settings)"
   ]
  },
  {
   "cell_type": "markdown",
   "metadata": {},
   "source": [
    "## Save segmentations\n",
    "Optionally write the automatic segmentations to disk\n"
   ]
  },
  {
   "cell_type": "code",
   "execution_count": null,
   "metadata": {},
   "outputs": [],
   "source": [
    "output_name = settings[\"output_format\"]\n",
    "output_directory = test_pat_path.joinpath(\"SEGMENTATIONS\")\n",
    "output_directory.mkdir(exist_ok=True)\n",
    "\n",
    "for struct_name in list(auto_structures.keys()):\n",
    "    sitk.WriteImage(auto_structures[struct_name], str(output_directory.joinpath(output_name.format(struct_name))))\n",
    "\n",
    "print(f\"Segmentations saved to: {output_directory}\")\n",
    "\n"
   ]
  },
  {
   "cell_type": "markdown",
   "metadata": {},
   "source": [
    "## Visualise Segmentations\n",
    "\n",
    "Next, we can generate a nice figure to check what the segmentation looks like using platipy's ImageVisualiser"
   ]
  },
  {
   "cell_type": "code",
   "execution_count": null,
   "metadata": {},
   "outputs": [],
   "source": [
    "vis = ImageVisualiser(test_image, cut=get_com(auto_structures[\"HEART\"]))\n",
    "\n",
    "vis.add_contour({struct: auto_structures[struct] for struct in auto_structures.keys()})\n",
    "\n",
    "fig = vis.show()"
   ]
  },
  {
   "cell_type": "code",
   "execution_count": null,
   "metadata": {},
   "outputs": [],
   "source": []
  }
 ],
 "metadata": {
  "kernelspec": {
   "display_name": "Python 3",
   "language": "python",
   "name": "python3"
  },
  "language_info": {
   "codemirror_mode": {
    "name": "ipython",
    "version": 3
   },
   "file_extension": ".py",
   "mimetype": "text/x-python",
   "name": "python",
   "nbconvert_exporter": "python",
   "pygments_lexer": "ipython3",
   "version": "3.6.9"
  }
 },
 "nbformat": 4,
 "nbformat_minor": 2
}
