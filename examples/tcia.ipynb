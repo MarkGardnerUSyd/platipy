{
 "cells": [
  {
   "cell_type": "markdown",
   "metadata": {},
   "source": [
    "# Download data from TCIA\n",
    "\n",
    "This example Jupyter notebook demonstrates how to download data from The Cancer Imaging Archive (TCIA). Finally the data is visualised using the ImageVisualiser class within PlatiPy"
   ]
  },
  {
   "cell_type": "markdown",
   "metadata": {},
   "source": [
    "### Import some functions to be able to download and visualise data"
   ]
  },
  {
   "cell_type": "code",
   "execution_count": null,
   "metadata": {},
   "outputs": [],
   "source": [
    "try:\n",
    "    import platipy\n",
    "except:\n",
    "    !pip install git+https://github.com/pyplati/platipy.git\n",
    "    import platipy\n",
    "\n",
    "import SimpleITK as sitk\n",
    "\n",
    "from platipy.dicom.download.tcia import (\n",
    "    get_collections,\n",
    "    get_modalities_in_collection,\n",
    "    get_patients_in_collection,\n",
    "    fetch_data\n",
    ")\n",
    "from platipy.imaging.visualisation.tools import ImageVisualiser\n",
    "from platipy.imaging.utils.tools import get_com"
   ]
  },
  {
   "cell_type": "markdown",
   "metadata": {},
   "source": [
    "## Let's get a list of all collections available in TCIA\n",
    "\n",
    "You can also browse the list of collections available here: https://www.cancerimagingarchive.net/collections/"
   ]
  },
  {
   "cell_type": "code",
   "execution_count": null,
   "metadata": {},
   "outputs": [],
   "source": [
    "collections = get_collections()"
   ]
  },
  {
   "cell_type": "markdown",
   "metadata": {},
   "source": [
    "## We'll use the 'Head-Neck Cetuximab' collection\n",
    "\n",
    "In this cell we check what modalities are available with the collection"
   ]
  },
  {
   "cell_type": "code",
   "execution_count": null,
   "metadata": {},
   "outputs": [],
   "source": [
    "collection = 'Head-Neck Cetuximab'\n",
    "modalities = get_modalities_in_collection(collection)\n",
    "print(f\"Modalities available: {modalities}\")\n"
   ]
  },
  {
   "cell_type": "markdown",
   "metadata": {},
   "source": [
    "## Next let's see find the patients available in the collection"
   ]
  },
  {
   "cell_type": "code",
   "execution_count": null,
   "metadata": {},
   "outputs": [],
   "source": [
    "patients = get_patients_in_collection(collection)"
   ]
  },
  {
   "cell_type": "markdown",
   "metadata": {},
   "source": [
    "## Download the CT, RTSTRUCT and RTDOSE for the first patient\n",
    "\n",
    "The fetch_data function will download the DICOM data from TCIA and will then convert it to NIFTI format for use within platipy.\n"
   ]
  },
  {
   "cell_type": "code",
   "execution_count": null,
   "metadata": {
    "tags": [
     "outputPrepend"
    ]
   },
   "outputs": [],
   "source": [
    "patient_id = patients[0]\n",
    "data = fetch_data(\n",
    "    collection,\n",
    "    patient_ids=[patient_id],\n",
    "    modalities=[\"CT\", \"RTSTRUCT\", \"RTDOSE\"],\n",
    "    nifti=True\n",
    ")"
   ]
  },
  {
   "cell_type": "markdown",
   "metadata": {},
   "source": [
    "## Finally, we load the NIFTI data and visualise it"
   ]
  },
  {
   "cell_type": "code",
   "execution_count": null,
   "metadata": {},
   "outputs": [],
   "source": [
    "ct_path = [p for p in data[patient_id][\"NIFTI\"][\"IMAGES\"] if p.name.endswith(\"CT_1.nii.gz\")][0]\n",
    "ct = sitk.ReadImage(str(ct_path))\n",
    "\n",
    "structures = {s.name.split(\".\")[0].split(\"_\")[-1]: sitk.ReadImage(str(s)) for s in data[patient_id][\"NIFTI\"][\"STRUCTURES\"]}\n",
    "\n",
    "dose = sitk.ReadImage(str(data[patient_id][\"NIFTI\"][\"DOSES\"][0]))\n",
    "dose = sitk.Resample(dose, ct)\n"
   ]
  },
  {
   "cell_type": "code",
   "execution_count": null,
   "metadata": {},
   "outputs": [],
   "source": [
    "img_vis = ImageVisualiser(ct, cut=get_com(structures[\"GTV\"]), figure_size_in=10)\n",
    "img_vis.add_scalar_overlay(dose, colormap=\"inferno\", alpha=0.5)\n",
    "img_vis.add_contour(structures)\n",
    "fig = img_vis.show()"
   ]
  }
 ],
 "metadata": {
  "kernelspec": {
   "display_name": "Python 3.6.9 64-bit",
   "metadata": {
    "interpreter": {
     "hash": "767d51c1340bd893661ea55ea3124f6de3c7a262a8b4abca0554b478b1e2ff90"
    }
   },
   "name": "python3"
  },
  "language_info": {
   "codemirror_mode": {
    "name": "ipython",
    "version": 3
   },
   "file_extension": ".py",
   "mimetype": "text/x-python",
   "name": "python",
   "nbconvert_exporter": "python",
   "pygments_lexer": "ipython3",
   "version": "3.6.9-final"
  }
 },
 "nbformat": 4,
 "nbformat_minor": 2
}
