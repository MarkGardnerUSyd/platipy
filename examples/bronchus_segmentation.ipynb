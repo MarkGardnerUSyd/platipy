{
 "cells": [
  {
   "attachments": {},
   "cell_type": "markdown",
   "metadata": {},
   "source": [
    "# Bronchus Segmentation\n",
    "\n",
    "This example demonstrated how to use the bronchial tree segmentation algorithm used in:\n",
    "\n",
    "***W. Ghandourh, J. Dowling, P. Chlap et al., “Medical Dosimetry Assessing tumor centrality in lung stereotactic ablative body radiotherapy ( SABR ): the effects of variations in bronchial tree delineation and potential for automated methods,” vol. 46, pp. 94–101, 2021, doi: [10.1016/j.meddos.2020.09.004](https://doi.org/10.1016/j.meddos.2020.09.004).***\n",
    "\n",
    "## Import Modules"
   ]
  },
  {
   "cell_type": "code",
   "execution_count": null,
   "metadata": {},
   "outputs": [],
   "source": [
    "try:\n",
    "    import platipy\n",
    "except:\n",
    "    !pip install platipy\n",
    "    import platipy\n",
    "\n",
    "import SimpleITK as sitk\n",
    "\n",
    "%matplotlib inline\n",
    "\n",
    "from platipy.imaging.tests.data import get_lung_nifti\n",
    "from platipy.imaging.projects.bronchus.run import run_bronchus_segmentation\n",
    "from platipy.imaging import ImageVisualiser\n",
    "from platipy.imaging.label.utils import get_com"
   ]
  },
  {
   "cell_type": "markdown",
   "metadata": {},
   "source": [
    "## Download Test Data\n",
    "\n",
    "This will download lung cancer patient CT scans, with contours of several structures.\n",
    "This only has to be done once - if it is ran again don't worry, the same data will not be downloaded again!"
   ]
  },
  {
   "cell_type": "code",
   "execution_count": null,
   "metadata": {
    "tags": []
   },
   "outputs": [],
   "source": [
    "data_path = get_lung_nifti()"
   ]
  },
  {
   "cell_type": "markdown",
   "metadata": {},
   "source": [
    "## Load Test Image\n",
    "\n",
    "Read in the image we want to automatically segment\n"
   ]
  },
  {
   "cell_type": "code",
   "execution_count": null,
   "metadata": {},
   "outputs": [],
   "source": [
    "test_pat_path = data_path.joinpath(\"LCTSC-Test-S1-201\")\n",
    "test_image = sitk.ReadImage(str(test_pat_path.joinpath(\"IMAGES/LCTSC_TEST_S1_201_0_CT_0.nii.gz\")))"
   ]
  },
  {
   "cell_type": "markdown",
   "metadata": {},
   "source": [
    "## Run Auto-segmentation\n",
    "\n",
    "This will take some time, and will print updates along the way\n"
   ]
  },
  {
   "cell_type": "code",
   "execution_count": null,
   "metadata": {
    "tags": []
   },
   "outputs": [],
   "source": [
    "auto_structures = run_bronchus_segmentation(test_image)"
   ]
  },
  {
   "cell_type": "markdown",
   "metadata": {},
   "source": [
    "## Save segmentations\n",
    "Optionally write the automatic segmentations to disk\n"
   ]
  },
  {
   "cell_type": "code",
   "execution_count": null,
   "metadata": {},
   "outputs": [],
   "source": [
    "output_directory = test_pat_path.joinpath(\"SEGMENTATIONS\")\n",
    "output_directory.mkdir(exist_ok=True)\n",
    "\n",
    "for struct_name in list(auto_structures.keys()):\n",
    "    sitk.WriteImage(auto_structures[struct_name], str(output_directory.joinpath(f\"{struct_name}.nii.gz\")))\n",
    "\n",
    "print(f\"Segmentations saved to: {output_directory}\")\n",
    "\n"
   ]
  },
  {
   "cell_type": "markdown",
   "metadata": {},
   "source": [
    "## Visualise Segmentations\n",
    "\n",
    "Next, we can generate a nice figure to check what the segmentation looks like\n",
    "\n",
    "The first step here is to convert SimpleITK images to NumPy arrays"
   ]
  },
  {
   "cell_type": "code",
   "execution_count": null,
   "metadata": {},
   "outputs": [],
   "source": [
    "vis = ImageVisualiser(test_image, cut=get_com(auto_structures[\"Auto_Bronchus\"]))\n",
    "\n",
    "vis.add_contour({struct: auto_structures[struct] for struct in auto_structures.keys()})\n",
    "\n",
    "fig = vis.show()"
   ]
  },
  {
   "cell_type": "code",
   "execution_count": null,
   "metadata": {},
   "outputs": [],
   "source": []
  }
 ],
 "metadata": {
  "kernelspec": {
   "display_name": "platipy-Ut1mjAmS-py3.8",
   "language": "python",
   "name": "python3"
  },
  "language_info": {
   "codemirror_mode": {
    "name": "ipython",
    "version": 3
   },
   "file_extension": ".py",
   "mimetype": "text/x-python",
   "name": "python",
   "nbconvert_exporter": "python",
   "pygments_lexer": "ipython3",
   "version": "3.8.0"
  },
  "vscode": {
   "interpreter": {
    "hash": "950d949bcc8447743ba2e2f4f81e1f06919534c5bd1d053b1a2c5f1f73baee7b"
   }
  }
 },
 "nbformat": 4,
 "nbformat_minor": 2
}
