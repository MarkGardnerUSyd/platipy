{
 "cells": [
  {
   "cell_type": "markdown",
   "metadata": {},
   "source": [
    "# DVH Analysis Example\n",
    "\n",
    "This notebook demonstrates how to compute and plot a DVH (Dose Volume Histogram).\n",
    "\n",
    "## Import Modules"
   ]
  },
  {
   "cell_type": "code",
   "execution_count": null,
   "metadata": {},
   "outputs": [],
   "source": [
    "try:\n",
    "    import platipy\n",
    "except:\n",
    "    !pip install git+https://github.com/pyplati/platipy.git\n",
    "    import platipy\n",
    "\n",
    "import matplotlib.pyplot as plt\n",
    "import seaborn as sns\n",
    "import SimpleITK as sitk\n",
    "\n",
    "%matplotlib inline\n",
    "\n",
    "from platipy.imaging.tests.data import get_hn_nifti\n",
    "from platipy.imaging import ImageVisualiser\n",
    "from platipy.imaging.label.utils import get_com\n",
    "from platipy.imaging.dose.dvh import calculate_dvh_for_labels, calculate_d_x, calculate_v_x"
   ]
  },
  {
   "cell_type": "markdown",
   "metadata": {},
   "source": [
    "## Download Test Data\n",
    "\n",
    "This will download some data from the TCIA TCGA-HNSC dataset. The data is for one patient and\n",
    "contains a CT, dose and some structures."
   ]
  },
  {
   "cell_type": "code",
   "execution_count": null,
   "metadata": {
    "tags": []
   },
   "outputs": [],
   "source": [
    "data_path = get_hn_nifti()"
   ]
  },
  {
   "cell_type": "markdown",
   "metadata": {},
   "source": [
    "## Load data\n",
    "\n",
    "Let's read in the data that we've downloaded"
   ]
  },
  {
   "cell_type": "code",
   "execution_count": null,
   "metadata": {},
   "outputs": [],
   "source": [
    "test_pat_path = data_path.joinpath(\"TCGA_CV_5977\")\n",
    "\n",
    "ct_image = sitk.ReadImage(str(test_pat_path.joinpath(\"IMAGES/TCGA_CV_5977_1_CT_ONC_NECK_NECK_4.nii.gz\")))\n",
    "\n",
    "dose = sitk.ReadImage(str(test_pat_path.joinpath(\"DOSES/TCGA_CV_5977_1_PLAN.nii.gz\")))\n",
    "\n",
    "dose = sitk.Resample(dose, ct_image)\n",
    "\n",
    "structure_names =[\"BRAINSTEM\", \"MANDIBLE\", \"CTV_60_GY\", \"PTV60\", \"CORD\", \"L_PAROTID\", \"R_PAROTID\"]\n",
    "\n",
    "structures = {\n",
    "    s: sitk.ReadImage(str(test_pat_path.joinpath(\"STRUCTURES\", f\"TCGA_CV_5977_1_RTSTRUCT_{s}.nii.gz\"))) for s in structure_names\n",
    "}"
   ]
  },
  {
   "cell_type": "markdown",
   "metadata": {},
   "source": [
    "## Visualise data\n",
    "\n",
    "and now let's visualise the data we've got"
   ]
  },
  {
   "cell_type": "code",
   "execution_count": null,
   "metadata": {},
   "outputs": [],
   "source": [
    "vis = ImageVisualiser(ct_image, cut=get_com(structures[\"PTV60\"]))\n",
    "\n",
    "vis.add_scalar_overlay(dose, discrete_levels=20, colormap=plt.cm.get_cmap(\"inferno\"))\n",
    "vis.add_contour(structures)\n",
    "\n",
    "fig = vis.show()"
   ]
  },
  {
   "cell_type": "markdown",
   "metadata": {},
   "source": [
    "## Compute DVH\n",
    "\n",
    "here we compute the DVH using the dose and structures loaded. We get the DVH back in a pandas\n",
    "DataFrame object."
   ]
  },
  {
   "cell_type": "code",
   "execution_count": null,
   "metadata": {},
   "outputs": [],
   "source": [
    "dvh = calculate_dvh_for_labels(dose, structures)"
   ]
  },
  {
   "cell_type": "markdown",
   "metadata": {},
   "source": [
    "## Plot DVH\n",
    "\n",
    "using the pandas DataFrame, we plot the DVH here"
   ]
  },
  {
   "cell_type": "code",
   "execution_count": null,
   "metadata": {},
   "outputs": [],
   "source": [
    "plt_dvh = dvh.melt(id_vars=[\"label\", \"cc\", \"mean\"], var_name=\"bin\", value_name=\"dose\")\n",
    "plt = sns.lineplot(data=plt_dvh, x=\"bin\", y=\"dose\", hue=\"label\", palette=\"Dark2\")\n",
    "text = plt.set(xlabel=\"Dose (Gy)\", ylabel=\"Frequency\", title=\"Dose Volume Histogram (DVH)\")"
   ]
  },
  {
   "cell_type": "markdown",
   "metadata": {},
   "source": [
    "## DVH Metrics\n",
    "\n",
    "Finally, we extract commonly used metrics from the DVH, such as D95 or V40."
   ]
  },
  {
   "cell_type": "code",
   "execution_count": null,
   "metadata": {},
   "outputs": [],
   "source": [
    "df_metrics = calculate_d_x(dvh, 95)\n",
    "df_metrics = df_metrics.append(calculate_v_x(dvh, 40))\n",
    "df_metrics"
   ]
  }
 ],
 "metadata": {
  "interpreter": {
   "hash": "767d51c1340bd893661ea55ea3124f6de3c7a262a8b4abca0554b478b1e2ff90"
  },
  "kernelspec": {
   "display_name": "Python 3.6.9 64-bit",
   "name": "python3"
  },
  "language_info": {
   "codemirror_mode": {
    "name": "ipython",
    "version": 3
   },
   "file_extension": ".py",
   "mimetype": "text/x-python",
   "name": "python",
   "nbconvert_exporter": "python",
   "pygments_lexer": "ipython3",
   "version": "3.6.9"
  }
 },
 "nbformat": 4,
 "nbformat_minor": 2
}
