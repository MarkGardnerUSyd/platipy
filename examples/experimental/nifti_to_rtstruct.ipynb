{
 "cells": [
  {
   "cell_type": "markdown",
   "metadata": {},
   "source": [
    "# Convert Nifti contour mask to Dicom RTStruct\n",
    "\n",
    "This notebook demonstrates how to use the nifti_to_rtstruct conversion script to convert a Nifti mask to a Dicom RTStruct file."
   ]
  },
  {
   "cell_type": "markdown",
   "metadata": {},
   "source": [
    "**Import the required function. Inside the Jupyter Notebook we need to first add the path containing the PlatiPy library so that the inputs work normally!**"
   ]
  },
  {
   "cell_type": "code",
   "execution_count": null,
   "metadata": {},
   "outputs": [],
   "source": [
    "import sys\n",
    "sys.path.append(\"../../../\") # Path containing PlatiPy library\n",
    "from platipy.dicom.nifti_to_rtstruct.convert import convert_nifti"
   ]
  },
  {
   "cell_type": "markdown",
   "metadata": {},
   "source": [
    "**Define which files to process. This code gets all Nifti files in the masks directory and puts them into a Python dict which is what the function expects.**\n",
    "\n",
    "The Python dict should have the desired name of the contour as the key and the path to the Nifti mask as the corresponding value."
   ]
  },
  {
   "cell_type": "code",
   "execution_count": null,
   "metadata": {},
   "outputs": [],
   "source": [
    "import os\n",
    "dicom_file = '../data/phantom/CT/2.16.840.1.114362.1.11775105.22396782581.502959996.700.3.dcm'\n",
    "masks_dir = '../data/phantom/masks/'\n",
    "output_file = 'test_output.dcm'\n",
    "\n",
    "masks = {}\n",
    "for m in os.listdir(masks_dir):\n",
    "    name = m.split('.')[0].split('Test_')[1]\n",
    "    mask_path = os.path.join(masks_dir, m)\n",
    "    masks[name] = mask_path"
   ]
  },
  {
   "cell_type": "markdown",
   "metadata": {},
   "source": [
    "**Call the function to convert the nifti masks to an RTStruct!**"
   ]
  },
  {
   "cell_type": "code",
   "execution_count": null,
   "metadata": {},
   "outputs": [],
   "source": [
    "convert_nifti(dicom_file, masks, output_file)"
   ]
  },
  {
   "cell_type": "markdown",
   "metadata": {},
   "source": [
    "**The RTStruct should have been output to the file: test_output.dcm**"
   ]
  }
 ],
 "metadata": {
  "kernelspec": {
   "display_name": "Python 3",
   "language": "python",
   "name": "python3"
  },
  "language_info": {
   "codemirror_mode": {
    "name": "ipython",
    "version": 3
   },
   "file_extension": ".py",
   "mimetype": "text/x-python",
   "name": "python",
   "nbconvert_exporter": "python",
   "pygments_lexer": "ipython3",
   "version": "3.6.5"
  }
 },
 "nbformat": 4,
 "nbformat_minor": 2
}
