{
 "cells": [
  {
   "cell_type": "code",
   "execution_count": null,
   "metadata": {},
   "outputs": [],
   "source": [
    "\"\"\"\n",
    "FOR TESTING PURPOSES\n",
    "\"\"\"\n",
    "%load_ext autoreload\n",
    "%autoreload 2"
   ]
  },
  {
   "cell_type": "code",
   "execution_count": null,
   "metadata": {},
   "outputs": [],
   "source": [
    "\"\"\"\n",
    "Import relevant modules\n",
    "\"\"\"\n",
    "\n",
    "import pathlib\n",
    "\n",
    "import SimpleITK as sitk\n",
    "import numpy as np\n",
    "\n",
    "from platipy.imaging.registration.registration import apply_field\n",
    "\n",
    "from platipy.imaging.visualisation.tools import ImageVisualiser, project_onto_arbitrary_plane, generate_animation_from_image_sequence\n",
    "\n",
    "from platipy.imaging.utils.tools import label_to_roi, get_com\n",
    "\n",
    "from platipy.imaging.tests.pull_data import get_lung_data\n",
    "\n",
    "\"\"\"\n",
    "Deformation field operations\n",
    "\"\"\"\n",
    "from platipy.imaging.deformation_fields.deformation_field_operations import (\n",
    "get_bone_mask,\n",
    "get_external_mask,\n",
    "generate_field_shift,\n",
    "generate_field_asymmetric_contract,\n",
    "generate_field_asymmetric_extend,\n",
    "generate_field_expand,\n",
    "generate_field_radial_bend\n",
    ")\n",
    "\n",
    "%matplotlib notebook"
   ]
  },
  {
   "cell_type": "code",
   "execution_count": null,
   "metadata": {},
   "outputs": [],
   "source": [
    "\"\"\"\n",
    "Download a sample case\n",
    "\"\"\"\n",
    "get_lung_data(number_of_patients=1)"
   ]
  },
  {
   "cell_type": "code",
   "execution_count": null,
   "metadata": {},
   "outputs": [],
   "source": [
    "\"\"\"\n",
    "Read in some images and structures for this demonstration\n",
    "We are using a lung radiotherapy dataset comprising CT and RTSTRUCT\n",
    "\"\"\"\n",
    "\n",
    "image_ct = sitk.ReadImage(\"../../imaging/tests/data/LCTSC/LCTSC-Test-S1-101/CT.nii.gz\")\n",
    "\n",
    "structure_list = [\"Heart\", \"Esophagus\", \"Lung_L\", \"Lung_R\", \"SpinalCord\"]\n",
    "label_images = {i:sitk.ReadImage(f\"../../imaging/tests/data/LCTSC/LCTSC-Test-S1-101/Struct_{i}.nii.gz\") for i in structure_list}"
   ]
  },
  {
   "cell_type": "code",
   "execution_count": null,
   "metadata": {},
   "outputs": [],
   "source": [
    "\"\"\"\n",
    "Deformation 1: SHIFTING SPECIFIC STRUCTURES\n",
    "\n",
    "We define a vector shift and then apply smoothing for more realistic deformation.\n",
    "We use a bone mask to keep bony anatomy consistent.\n",
    "\"\"\"\n",
    "\n",
    "label_shift, shift_transform, shift_dvf = generate_field_shift(label_images[\"Heart\"], vector_shift=(0,0,20), gaussian_smooth=5)"
   ]
  },
  {
   "cell_type": "code",
   "execution_count": null,
   "metadata": {},
   "outputs": [],
   "source": [
    "\"\"\"\n",
    "We can apply the transformation to the image, or to the other structures\n",
    "\"\"\"\n",
    "\n",
    "image_ct_deformed = apply_field(image_ct, shift_transform, structure=False, default_value=-1000)"
   ]
  },
  {
   "cell_type": "code",
   "execution_count": null,
   "metadata": {},
   "outputs": [],
   "source": [
    "\"\"\"\n",
    "One way to display is to overlay the images and vector field\n",
    "\"\"\"\n",
    "vis = ImageVisualiser(image=image_ct_deformed, cut=get_com(label_shift), figure_size_in=10)\n",
    "\n",
    "vis.add_comparison_overlay(image_ct_deformed)\n",
    "vis.add_vector_overlay(shift_dvf, arrow_scale=1, subsample=(4,12,12), color_function=\"magnitude\")\n",
    "vis.add_contour({\"heart\":label_images[\"Heart\"], \"heart (shifted)\":label_shift})\n",
    "\n",
    "\n",
    "\n",
    "fig = vis.show()"
   ]
  },
  {
   "cell_type": "code",
   "execution_count": null,
   "metadata": {},
   "outputs": [],
   "source": [
    "\"\"\"\n",
    "Another method is displaying both the original and deformed image with contours\n",
    "We can also display a map of the vector magnitude\n",
    "\"\"\"\n",
    "\n",
    "vis = ImageVisualiser(image = image_ct, axis='z', cut=50, figure_size_in=6)\n",
    "vis.add_scalar_overlay(sitk.VectorMagnitude(shift_dvf), colormap=plt.cm.magma, name=\"Deformation Magnitude [mm]\", min_value=1)\n",
    "vis.add_contour({\"heart\":label_images[\"Heart\"], \"heart (shifted)\":label_shift})\n",
    "fig = vis.show()\n"
   ]
  },
  {
   "cell_type": "code",
   "execution_count": null,
   "metadata": {},
   "outputs": [],
   "source": [
    "\"\"\"\n",
    "These methods are widely applicable to other deformations\n",
    "There are a few available:\n",
    "    generate_field_shift\n",
    "    generate_field_asymmetric_contract\n",
    "    generate_field_asymmetric_extend\n",
    "    generate_field_expand\n",
    "\n",
    "Each of these will be demonstrated below, with some notes\n",
    "\n",
    "\"\"\""
   ]
  },
  {
   "cell_type": "code",
   "execution_count": null,
   "metadata": {},
   "outputs": [],
   "source": [
    "\"\"\"\n",
    "generate_field_asymmetric_contract\n",
    "\n",
    "This function takes a structure and contracts in each dimension individually (axial, coronal, sagittal).\n",
    "This contraction can be either positive of negative to define which side of the structure undergoes contraction:\n",
    "    (+/-, +/-, +/-) = contract volume at (inf/sup, post/ant, r/l) border in patient coordinates.\n",
    "\"\"\"\n",
    "\n",
    "label_contract, contract_transform, contract_dvf = generate_field_asymmetric_contract(label_images[\"Lung_L\"]+label_images[\"Lung_R\"], vector_asymmetric_contract=(0,0,30), gaussian_smooth=5)\n",
    "\n",
    "image_ct_deformed = apply_field(image_ct, contract_transform, structure=False, default_value=-1000)"
   ]
  },
  {
   "cell_type": "code",
   "execution_count": null,
   "metadata": {},
   "outputs": [],
   "source": [
    "vis = ImageVisualiser(image=image_ct, cut=get_com(label_images[\"Lung_L\"]), figure_size_in=10)\n",
    "\n",
    "vis.add_comparison_overlay(image_ct_deformed)\n",
    "vis.add_vector_overlay(contract_dvf, arrow_scale=0.5, subsample=4, color_function='magnitude')\n",
    "vis.add_contour({\"lungs\":label_images[\"Lung_L\"]+label_images[\"Lung_R\"], \"lungs (contracted)\":label_contract})\n",
    "\n",
    "fig = vis.show()"
   ]
  },
  {
   "cell_type": "code",
   "execution_count": null,
   "metadata": {},
   "outputs": [],
   "source": [
    "\"\"\"\n",
    "generate_field_asymmetric_extend\n",
    "\n",
    "This function takes a structure and extends in each dimension individually (axial, coronal, sagittal).\n",
    "This extendion can be either positive of negative to define which side of the structure undergoes extendion:\n",
    "    (+/-, +/-, +/-) = extend volume at (sup/inf, ant/post, l/r) border in patient coordinates.\n",
    "\"\"\"\n",
    "\n",
    "label_extend, extend_transform, extend_dvf = generate_field_asymmetric_extend(label_images[\"Lung_L\"], vector_asymmetric_extend=(0, 0, 30), gaussian_smooth=10)\n",
    "\n",
    "image_ct_deformed = apply_field(image_ct, extend_transform, structure=False, default_value=-1000)"
   ]
  },
  {
   "cell_type": "code",
   "execution_count": null,
   "metadata": {},
   "outputs": [],
   "source": [
    "vis = ImageVisualiser(image=image_ct, cut=get_com(label_images[\"Lung_L\"]), figure_size_in=10)\n",
    "\n",
    "vis.add_comparison_overlay(image_ct_deformed)\n",
    "vis.add_vector_overlay(extend_dvf, arrow_scale=0.5, subsample=(4,12,12), color_function='magnitude')\n",
    "vis.add_contour({\"lungs\":label_images[\"Lung_L\"], \"lungs (extended)\":label_extend})\n",
    "\n",
    "fig = vis.show()"
   ]
  },
  {
   "cell_type": "code",
   "execution_count": null,
   "metadata": {},
   "outputs": [],
   "source": [
    "\"\"\"\n",
    "generate_field_expand\n",
    "\n",
    "This function takes a structure and expands or shrinks the structure.\n",
    "The variable *expand* defines the expansion (or shrinking) in mm.\n",
    "It can also be defined as a 3D vector, in which case the expansion is anisotropic.\n",
    "\n",
    "Note - simultaneous expansion/shrinking in different directions is not yet supported!\n",
    "\"\"\"\n",
    "\n",
    "label_expand, expand_transform, expand_dvf = generate_field_expand(label_images[\"Heart\"], bone_mask=False, expand=(-10,20,0), gaussian_smooth=2)\n",
    "\n",
    "image_ct_deformed = apply_field(image_ct, expand_transform, structure=False, default_value=-1000)"
   ]
  },
  {
   "cell_type": "code",
   "execution_count": null,
   "metadata": {},
   "outputs": [],
   "source": [
    "vis = ImageVisualiser(image=image_ct, cut=get_com(label_images[\"Heart\"]), figure_size_in=10)\n",
    "\n",
    "vis.add_comparison_overlay(image_ct_deformed)\n",
    "vis.add_vector_overlay(expand_dvf, arrow_scale=1, subsample=(4,12,12), color_function='magnitude')\n",
    "vis.add_contour({\"heart\":label_images[\"Heart\"], \"heart (expanded)\":label_expand})\n",
    "\n",
    "fig = vis.show()"
   ]
  },
  {
   "cell_type": "code",
   "execution_count": null,
   "metadata": {},
   "outputs": [],
   "source": [
    "external_mask = get_external_mask(image_ct, dilate=1)\n",
    "\n",
    "vis = ImageVisualiser(image=image_ct, cut=(125, 256, 256), figure_size_in=10)\n",
    "vis.add_contour({\"external (auto.)\":external_mask})\n",
    "\n",
    "fig = vis.show()"
   ]
  },
  {
   "cell_type": "code",
   "execution_count": null,
   "metadata": {},
   "outputs": [],
   "source": [
    "\"\"\"\n",
    "generate_field_radial_bend\n",
    "\n",
    "\n",
    "\"\"\"\n",
    "\n",
    "image_ct_bend, bend_transform, bend_dvf = generate_field_radial_bend(\n",
    "    image_ct,\n",
    "    external_mask,\n",
    "    reference_point=get_com(label_images[\"Heart\"]),\n",
    "    axis_of_rotation=[1,0,0],\n",
    "    scale=1,\n",
    "    mask_bend_from_reference_point=(\"z\", \"inf\"),\n",
    "    gaussian_smooth=False,\n",
    ")\n"
   ]
  },
  {
   "cell_type": "code",
   "execution_count": null,
   "metadata": {},
   "outputs": [],
   "source": [
    "vis = ImageVisualiser(image=image_ct, cut=get_com(label_images[\"Heart\"]), figure_size_in=10)\n",
    "\n",
    "vis.add_comparison_overlay(image_ct_bend)\n",
    "#vis.add_vector_overlay(bend_dvf, arrow_scale=1, subsample=(4,12,12), color_function='magnitude')\n",
    "\n",
    "fig = vis.show()"
   ]
  },
  {
   "cell_type": "code",
   "execution_count": null,
   "metadata": {},
   "outputs": [],
   "source": []
  }
 ],
 "metadata": {
  "kernelspec": {
   "display_name": "Python 3",
   "language": "python",
   "name": "python3"
  },
  "language_info": {
   "codemirror_mode": {
    "name": "ipython",
    "version": 3
   },
   "file_extension": ".py",
   "mimetype": "text/x-python",
   "name": "python",
   "nbconvert_exporter": "python",
   "pygments_lexer": "ipython3",
   "version": "3.7.7"
  }
 },
 "nbformat": 4,
 "nbformat_minor": 4
}
