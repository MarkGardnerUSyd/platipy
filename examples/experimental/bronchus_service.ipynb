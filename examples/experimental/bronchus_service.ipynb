{
 "cells": [
  {
   "cell_type": "markdown",
   "metadata": {},
   "source": [
    "# Bronchus Segmentation Service Client\n",
    "\n",
    "This Jupyter Notebook provides an example on how to interact with a running Bronchus Segmentation service\n",
    "\n",
    "### Getting Started:\n",
    "1. Set the host name or IP address of the server running the service\n",
    "2. Set the appropriate port which the service is running on\n",
    "3. Create an API key on the server for this client and enter it below\n",
    "4. Leave the algorithm name, since this should always be running as 'Bronchus Segmentation'\n",
    "5. While experimenting, set the log_level to 'DEBUG'. This will generate a lot of output so set it to 'INFO' when running over a lot of data to reduce the amount of output"
   ]
  },
  {
   "cell_type": "code",
   "execution_count": null,
   "metadata": {},
   "outputs": [],
   "source": [
    "import sys\n",
    "sys.path.append(\"../../..\")\n",
    "\n",
    "import os\n",
    "\n",
    "from platipy.backend.client import PlatiPyClient\n",
    "from platipy.imaging.tests.pull_data import get_lung_data\n",
    "\n",
    "from loguru import logger\n",
    "\n",
    "host = \"127.0.0.1\" # Set the host name or IP of the server running the service here\n",
    "port = 8001 # Set the port the service was configured to run on here\n",
    "\n",
    "api_key = \"\" # Set the API Key generated for you here\n",
    "\n",
    "algorithm_name = \"Bronchus Segmentation\" # The name of the algorithm, in this case it should be left as is\n",
    "\n",
    "log_level = \"INFO\" # Choose an appropriate level of logging output: \"DEBUG\" or \"INFO\"\n",
    "\n",
    "logger.remove()\n",
    "handler_id = logger.add(sys.stderr, level=log_level)"
   ]
  },
  {
   "cell_type": "markdown",
   "metadata": {},
   "source": [
    "### Fetch some data\n",
    "\n",
    "The next cell fetches some test data to work with from TCIA"
   ]
  },
  {
   "cell_type": "code",
   "execution_count": null,
   "metadata": {},
   "outputs": [],
   "source": [
    "images = get_lung_data()"
   ]
  },
  {
   "cell_type": "markdown",
   "metadata": {},
   "source": [
    "### Create Client Instance\n",
    "\n",
    "The PlatiPyClient provides useful functions to interact with the running service"
   ]
  },
  {
   "cell_type": "code",
   "execution_count": null,
   "metadata": {},
   "outputs": [],
   "source": [
    "client = PlatiPyClient(host, port, api_key, algorithm_name)"
   ]
  },
  {
   "cell_type": "markdown",
   "metadata": {},
   "source": [
    "### Add a dataset\n",
    "\n",
    "Images can only be added to a dataset. In theory you could add multiple images to one dataset and the algorithm would run on all of them. But often better control can be gained by only adding one image per dataset and runnin the algorithm on each separately."
   ]
  },
  {
   "cell_type": "code",
   "execution_count": null,
   "metadata": {},
   "outputs": [],
   "source": [
    "dataset = client.add_dataset()"
   ]
  },
  {
   "cell_type": "markdown",
   "metadata": {},
   "source": [
    "### Add an image to the dataset\n",
    "\n",
    "The following cell grabs the first test image file and adds it as a data object to the dataset created above"
   ]
  },
  {
   "cell_type": "code",
   "execution_count": null,
   "metadata": {},
   "outputs": [],
   "source": [
    "pat_id = list(images.keys())[1]\n",
    "ct_file = os.path.join(images[pat_id], \"CT.nii.gz\")\n",
    "data_object = client.add_data_object(dataset, file_path=ct_file)"
   ]
  },
  {
   "cell_type": "markdown",
   "metadata": {},
   "source": [
    "### Refresh the dataset\n",
    "\n",
    "The next cell demonstrates how to refresh the dataset and see that the image has been added as a input data object"
   ]
  },
  {
   "cell_type": "code",
   "execution_count": null,
   "metadata": {},
   "outputs": [],
   "source": [
    "client.get_dataset(dataset)"
   ]
  },
  {
   "cell_type": "markdown",
   "metadata": {},
   "source": [
    "### View and modify the algorithm settings\n",
    "\n",
    "Here the default settings for the algorithm are fetched, and a small change is made to the settings for this run"
   ]
  },
  {
   "cell_type": "code",
   "execution_count": null,
   "metadata": {},
   "outputs": [],
   "source": [
    "settings = client.get_default_settings()\n",
    "settings[\"algorithmSettings\"][\"extend_from_carina_mm\"] = 25\n",
    "settings"
   ]
  },
  {
   "cell_type": "markdown",
   "metadata": {},
   "source": [
    "### Run the algorithm\n",
    "\n",
    "Now everything is ready to run the algorithm using the dataset and the modified settings we generated above"
   ]
  },
  {
   "cell_type": "code",
   "execution_count": null,
   "metadata": {},
   "outputs": [],
   "source": [
    "for status in client.run_algorithm(dataset, config=settings):\n",
    "    print('.', end='')"
   ]
  },
  {
   "cell_type": "markdown",
   "metadata": {},
   "source": [
    "### Download the output\n",
    "\n",
    "Once the algorithm has finished running, we can download the output objects (here downloaded into the results directory)"
   ]
  },
  {
   "cell_type": "code",
   "execution_count": null,
   "metadata": {},
   "outputs": [],
   "source": [
    "output_directory = os.path.join(\".\", \"results\", pat_id)\n",
    "client.download_output_objects(dataset, output_path=output_directory)"
   ]
  },
  {
   "cell_type": "code",
   "execution_count": null,
   "metadata": {},
   "outputs": [],
   "source": []
  }
 ],
 "metadata": {
  "kernelspec": {
   "display_name": "Python 3",
   "language": "python",
   "name": "python3"
  },
  "language_info": {
   "codemirror_mode": {
    "name": "ipython",
    "version": 3
   },
   "file_extension": ".py",
   "mimetype": "text/x-python",
   "name": "python",
   "nbconvert_exporter": "python",
   "pygments_lexer": "ipython3",
   "version": "3.7.6"
  }
 },
 "nbformat": 4,
 "nbformat_minor": 4
}
