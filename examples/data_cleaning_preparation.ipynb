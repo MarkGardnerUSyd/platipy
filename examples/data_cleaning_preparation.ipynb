{
  "cells": [
    {
      "cell_type": "markdown",
      "metadata": {
        "id": "PeXTD0PHE_gX"
      },
      "source": [
        "# EPSM AI Workshop: Part 2\n",
        "\n",
        "## Making it really work in practice- Data cleaning and set-up for imaging data\n",
        "\n",
        "Contact Phillip Chlap: [phillip.chlap@unsw.edu.au](phillip.chlap@unsw.edu.au)\n",
        "\n",
        "Within this session we'll explore working with real-world Radiotherapy DICOM data and how to clean it up and convert it to a form more suitable to use in in our AI projects."
      ]
    },
    {
      "cell_type": "markdown",
      "metadata": {
        "id": "HBE3nKr0-Zt1"
      },
      "source": [
        "## Python Libraries\n",
        "\n",
        "To accomplish our goal within this session we will make use of the following open-source Python libraries:\n",
        "- pydicom: https://pydicom.github.io/pydicom\n",
        "- pandas: https://pandas.pydata.org/\n",
        "- SimpleITK: https://simpleitk.readthedocs.io/\n",
        "- platipy: https://pyplati.github.io/platipy/"
      ]
    },
    {
      "cell_type": "markdown",
      "metadata": {
        "id": "XYcwm4SN-x1X"
      },
      "source": [
        "### Install Libraries\n",
        "\n",
        "Let's install these now using Python's builtin package manager `pip`."
      ]
    },
    {
      "cell_type": "code",
      "execution_count": null,
      "metadata": {
        "id": "4SXj8f_PEgtQ"
      },
      "outputs": [],
      "source": [
        "!pip install pydicom\n",
        "!pip install SimpleITK\n",
        "!pip install textdistance\n",
        "!pip install platipy"
      ]
    },
    {
      "cell_type": "markdown",
      "metadata": {
        "id": "lOra6wS478sO"
      },
      "source": [
        "### Import Libraries\n",
        "\n",
        "Now that they are installed, we must import the specific modules and functions which we plan to use throughout the session."
      ]
    },
    {
      "cell_type": "code",
      "execution_count": null,
      "metadata": {
        "id": "-1bChEA_E_JU"
      },
      "outputs": [],
      "source": [
        "from pathlib import Path\n",
        "import shutil\n",
        "from datetime import datetime\n",
        "\n",
        "import pydicom\n",
        "import pandas as pd\n",
        "import SimpleITK as sitk\n",
        "import textdistance\n",
        "from tqdm import tqdm\n",
        "\n",
        "from platipy.imaging import ImageVisualiser\n",
        "from platipy.imaging.tests.data import download_and_extract_zip_file\n",
        "from platipy.dicom.io.rtstruct_to_nifti import convert_rtstruct"
      ]
    },
    {
      "cell_type": "markdown",
      "metadata": {
        "id": "GsiibYhq_Xb2"
      },
      "source": [
        "## Working with DICOM data"
      ]
    },
    {
      "cell_type": "markdown",
      "metadata": {
        "id": "ZY8lgbWDjiJb"
      },
      "source": [
        "### Fetching sample data\n",
        "\n",
        "Next we need some data to work with. In this example we'll be using Radiotherapy DICOM data from [The Cancer Imaging Archive (TCIA)](https://www.cancerimagingarchive.net/). A portion of this has been prepared in a zip file stored on Zenodo."
      ]
    },
    {
      "cell_type": "code",
      "execution_count": null,
      "metadata": {
        "id": "OGbFxdpDElGj"
      },
      "outputs": [],
      "source": [
        "dicom_zip_url = \"https://zenodo.org/record/5276878/files/HNSCC.zip\"\n",
        "download_and_extract_zip_file(dicom_zip_url, \"dicom\")"
      ]
    },
    {
      "cell_type": "markdown",
      "metadata": {
        "id": "JsECtGx5dkn6"
      },
      "source": [
        "### Exploring the DICOM data\n",
        "\n",
        "In the 'Files' section to the left, you should now see a directory called `dicom`. Within this File Explorer you can navigate your way through these files to see what's available.\n",
        "\n",
        "DICOM files can be difficult to work with on the file system since their name are often not particularly descriptive. Fortunately we have a file describing the files we have in this dataset, see `metadata.csv`.\n",
        "\n",
        "Let's use the pandas library to read this file in our code"
      ]
    },
    {
      "cell_type": "code",
      "execution_count": null,
      "metadata": {
        "id": "vcfcNmZsElLf"
      },
      "outputs": [],
      "source": [
        "dicom_path = Path(\"dicom\")\n",
        "df = pd.read_csv(dicom_path.joinpath(\"HNSCC\", \"metadata.csv\"))\n",
        "df"
      ]
    },
    {
      "cell_type": "markdown",
      "metadata": {
        "id": "spdeUcwXABhq"
      },
      "source": [
        "### Reading DICOM data\n",
        "\n",
        "We can use the pydicom library to open the RTSTRUCT file and inspect it"
      ]
    },
    {
      "cell_type": "code",
      "execution_count": null,
      "metadata": {
        "id": "r-8FkRnT6Fob"
      },
      "outputs": [],
      "source": [
        "rtstruct_row = df[(df[\"Subject ID\"] == \"HNSCC-01-0019\") & (df[\"Modality\"] == \"RTSTRUCT\")].iloc[0]\n",
        "rtstruct_dir = dicom_path.joinpath(rtstruct_row[\"File Location\"])\n",
        "rtstruct_file = list(rtstruct_dir.glob(\"*\"))[0]\n",
        "\n",
        "print(f\"Reading RTSTRUCT file at {rtstruct_file}\")\n",
        "rtstruct = pydicom.read_file(rtstruct_file)"
      ]
    },
    {
      "cell_type": "code",
      "execution_count": null,
      "metadata": {
        "id": "DY2RQeTzA41r"
      },
      "outputs": [],
      "source": [
        "# List the attributes present in the dataset\n",
        "rtstruct.dir()"
      ]
    },
    {
      "cell_type": "code",
      "execution_count": null,
      "metadata": {
        "id": "30iSp9r2BawS"
      },
      "outputs": [],
      "source": [
        "# Output the Structure Set Name\n",
        "rtstruct.StructureSetName"
      ]
    },
    {
      "cell_type": "code",
      "execution_count": null,
      "metadata": {
        "id": "rF9yXFoqCHcC"
      },
      "outputs": [],
      "source": [
        "# Loop over and print the names of the structures available\n",
        "for struct_seq in rtstruct.StructureSetROISequence:\n",
        "  print(struct_seq.ROIName)"
      ]
    },
    {
      "cell_type": "markdown",
      "metadata": {
        "id": "OUAoaPXHAEmV"
      },
      "source": [
        "### Manipulating DICOM data\n",
        "\n",
        "pydicom also allows us to modify the DICOM files. This can often be useful when to correct issues in the header attributes.\n",
        "\n",
        "In this example, we want to rename the `Cord` structure to the TG-263 recommended name `SpinalCord`"
      ]
    },
    {
      "cell_type": "code",
      "execution_count": null,
      "metadata": {
        "id": "4RbJoykiC32X"
      },
      "outputs": [],
      "source": [
        "# Loop over and change the name Cord to SpinalCord\n",
        "for struct_seq in rtstruct.StructureSetROISequence:\n",
        "  if struct_seq.ROIName == \"Cord\":\n",
        "    print(f\"Renaming {struct_seq.ROIName} to SpinalCord\")\n",
        "    struct_seq.ROIName = \"SpinalCord\"\n",
        "\n",
        "# And overwrite the DICOM file\n",
        "rtstruct.save_as(rtstruct_file)"
      ]
    },
    {
      "cell_type": "markdown",
      "metadata": {
        "id": "nreGwetoDd2t"
      },
      "source": [
        "### Exercise\n",
        "\n",
        "Try changing the StructureSetName and save the DICOM file. You might also like to manipulate some other DICOM header attributes."
      ]
    },
    {
      "cell_type": "code",
      "execution_count": null,
      "metadata": {
        "id": "xDXSPp-i6ucx"
      },
      "outputs": [],
      "source": [
        "# First modify the Structure Set Name\n",
        "\n",
        "# Then Overwrite the DICOM file"
      ]
    },
    {
      "cell_type": "code",
      "execution_count": null,
      "metadata": {
        "id": "wZM603LlD78_"
      },
      "outputs": [],
      "source": [
        "# Now we'll reload the DICOM file from the disk and check that our changes are there\n",
        "rtstruct = pydicom.read_file(rtstruct_file)"
      ]
    },
    {
      "cell_type": "code",
      "execution_count": null,
      "metadata": {
        "id": "ZLuMdZ29D8BY"
      },
      "outputs": [],
      "source": [
        "rtstruct.StructureSetName"
      ]
    },
    {
      "cell_type": "code",
      "execution_count": null,
      "metadata": {
        "id": "pFJ-YlFXD8Df"
      },
      "outputs": [],
      "source": [
        "for struct_seq in rtstruct.StructureSetROISequence:\n",
        "  print(struct_seq.ROIName)"
      ]
    },
    {
      "cell_type": "markdown",
      "metadata": {
        "id": "maBckY2Nvfnt"
      },
      "source": [
        "## Converting DICOM data\n",
        "\n",
        "The DICOM format is ubiquitous in the medical image domain and has proven itself particularly useful to store and transfer images within hospitals and clincs. However it is not necessarily well suited to work with in AI projects so converting DICOM data to other formats is often desirable.\n",
        "\n",
        "Many different image formats exist which can be more easily utilised in AI projects. In this session we will convert our data to NIfTI format. Originally designed for use in neuroimaging, this format allows storing of 3D image volumes while preserving the pixel (voxel) spacing and frame of reference.\n",
        "\n",
        "The SimpleITK library is able to easily work with Image volumes stored in NIfTI. Here we define a function which will allow us to convert our DICOM image volumes to a SimpleITK image. Then we can save it off using the NIfTI format."
      ]
    },
    {
      "cell_type": "code",
      "execution_count": null,
      "metadata": {
        "id": "Z4_rZXr7eoWa"
      },
      "outputs": [],
      "source": [
        "def read_dicom_image_to_sitk(img_path):\n",
        "  reader = sitk.ImageSeriesReader()\n",
        "\n",
        "  dicom_names = reader.GetGDCMSeriesFileNames(str(img_path))\n",
        "  reader.SetFileNames(dicom_names)\n",
        "\n",
        "  image = reader.Execute()\n",
        "\n",
        "  return image"
      ]
    },
    {
      "cell_type": "markdown",
      "metadata": {
        "id": "D_3izBzHvrhw"
      },
      "source": [
        "### Convert CT Image\n",
        "\n",
        "Here we'll load a CT image using SimpleITK and then save it in NIfTI format.\n",
        "\n",
        "> Tip: The file extension `.nii` informs SimpleITK to use the NIfTI format. It's advised to always expand that to `.nii.gz` to inform SimpleITK to also GZip the file, compressing it and making it much smaller on disk."
      ]
    },
    {
      "cell_type": "code",
      "execution_count": null,
      "metadata": {
        "id": "xdYt7f6cwZ2t"
      },
      "outputs": [],
      "source": [
        "# Define a directory where to store converted data\n",
        "subject = \"HNSCC-01-0019\"\n",
        "converted_dir = Path(\"./converted\")\n",
        "patient_converted_dir = converted_dir.joinpath(subject)\n",
        "patient_converted_dir.mkdir(exist_ok=True, parents=True)\n",
        "\n",
        "ct_row = df[(df[\"Subject ID\"] == subject) & (df[\"Modality\"] == \"CT\")].iloc[0]\n",
        "ct_directory = dicom_path.joinpath(ct_row[\"File Location\"])\n",
        "ct_image = read_dicom_image_to_sitk(ct_directory)\n",
        "\n",
        "output_file = patient_converted_dir.joinpath(\"CT.nii.gz\")\n",
        "sitk.WriteImage(ct_image, str(output_file))"
      ]
    },
    {
      "cell_type": "markdown",
      "metadata": {
        "id": "pf7FH_5S3WXt"
      },
      "source": [
        "### Convert RT Structure Set\n",
        "\n",
        "Within the DICOM RTSTRUCT modality, structures are stored as a set of contour points within the header attributes. This is particularly difficult to use in AI projects. Here we will convert the structures available using the PlatiPy library to a set of binary masks and save those in NIfTI format.\n",
        "\n",
        "The `convert_rtstruct` function takes the DICOM CT image and the corresponding DICOM RTSTRUCT file. The structures will be convereted in the image space of the CT image."
      ]
    },
    {
      "cell_type": "code",
      "execution_count": null,
      "metadata": {
        "id": "2Uhv_JHa39xr"
      },
      "outputs": [],
      "source": [
        "rtstruct_row = df[(df[\"Subject ID\"] == \"HNSCC-01-0019\") & (df[\"Modality\"] == \"RTSTRUCT\")].iloc[0]\n",
        "rtstruct_dir = dicom_path.joinpath(rtstruct_row[\"File Location\"])\n",
        "rtstruct_file = list(rtstruct_dir.glob(\"*\"))[0]\n",
        "\n",
        "convert_rtstruct(ct_directory, rtstruct_file, output_dir=patient_converted_dir)"
      ]
    },
    {
      "cell_type": "markdown",
      "metadata": {
        "id": "NLqgWnA78tdj"
      },
      "source": [
        "### Visualise the data\n",
        "\n",
        "In the file explorer, navigate to `converted/HNSCC-01-0019` to view our converted files. When working on our local computer, we could now easily open these in a tool like 3D Slicer. But in some scenarios we can't access that tool or want to have a faster way to view the data.\n",
        "\n",
        "Let's use the `ImageVisualiser` class in PlatiPy to view and save a cross-section of the data we converted."
      ]
    },
    {
      "cell_type": "code",
      "execution_count": null,
      "metadata": {
        "id": "URb9UINXz9az"
      },
      "outputs": [],
      "source": [
        "vis = ImageVisualiser(ct_image)\n",
        "contours = {\n",
        "    s.name.split(\".\")[0].replace(\"Struct_\", \"\"): sitk.ReadImage(str(s)) \n",
        "    for s in patient_converted_dir.glob(\"Struct_*.nii.gz\")}\n",
        "  \n",
        "vis.add_contour(contours)\n",
        "fig = vis.show()\n",
        "output_file_path = patient_converted_dir.joinpath(\"visualisation.png\")\n",
        "fig.savefig(output_file_path, dpi=fig.dpi)"
      ]
    },
    {
      "cell_type": "markdown",
      "metadata": {
        "id": "Hlbpa532vvO0"
      },
      "source": [
        "### Bulk conversion of data\n",
        "\n",
        "So far we have converted the Image and Structures for one patient. In practice we would like to write a script to convert all our DICOM data at once. Let's put it all together and run this across all 3 patients in one go.\n",
        "\n",
        "On closer inspection of our data, we can see that for the `HNSCC-01-0019` patient we only have one image and one structure set. Here there was no ambiguity as to which image and structure to use.\n",
        "\n",
        "In practice, our data is rarely that clean. As is the case for patient `HNSCC-01-0176` we need to implement some logic to select the CT image and structure set that we want for that patient."
      ]
    },
    {
      "cell_type": "code",
      "execution_count": null,
      "metadata": {
        "id": "dK4GLTbXAKKM"
      },
      "outputs": [],
      "source": [
        "selected_rows = []\n",
        "for pat, df_group in df.groupby(\"Subject ID\"):\n",
        "\n",
        "  # Select the structure set with the later date\n",
        "  latest_date = None\n",
        "  latest_file = None\n",
        "  linked_ct_uid = None\n",
        "  for idx, rtstruct_row in df_group[df_group.Modality == \"RTSTRUCT\"].iterrows():\n",
        "    rtstruct_dir = dicom_path.joinpath(rtstruct_row[\"File Location\"])\n",
        "    rtstruct_file = list(rtstruct_dir.glob(\"*\"))[0]\n",
        "\n",
        "    rtstruct = pydicom.read_file(rtstruct_file)\n",
        "    rtstruct_date = int(rtstruct.InstanceCreationDate)\n",
        "\n",
        "    if latest_date is None or rtstruct_date > latest_date:\n",
        "      latest_date = rtstruct_date\n",
        "      latest_file = idx\n",
        "      linked_ct_uid = rtstruct.ReferencedFrameOfReferenceSequence[0].RTReferencedStudySequence[0].RTReferencedSeriesSequence[0].SeriesInstanceUID\n",
        "  \n",
        "  # Select the RTSTRUCT for this patient\n",
        "  selected_rows.append(latest_file)\n",
        "\n",
        "  # Also select the CT image linked to the RTSTRUCT\n",
        "  ct_idx = df[df[\"Series UID\"] == linked_ct_uid].iloc[0].name\n",
        "  selected_rows.append(ct_idx)\n",
        "\n",
        "df_clean = df.loc[selected_rows]"
      ]
    },
    {
      "cell_type": "markdown",
      "metadata": {
        "id": "IukOmmjWE7oM"
      },
      "source": [
        "Let's have a look at our cleaned up dataset in `df_clean`. This should now hold the one CT and one RTSTRUCT selected for each patient."
      ]
    },
    {
      "cell_type": "code",
      "execution_count": null,
      "metadata": {
        "id": "9XC3j_AcBgI8"
      },
      "outputs": [],
      "source": [
        "df_clean"
      ]
    },
    {
      "cell_type": "markdown",
      "metadata": {
        "id": "iD9c-PFNFFlR"
      },
      "source": [
        "Now we can loop over this data and convert it all at once"
      ]
    },
    {
      "cell_type": "code",
      "execution_count": null,
      "metadata": {
        "id": "WPkV5QetFEyC"
      },
      "outputs": [],
      "source": [
        "converted_dir = Path(\"./converted\")\n",
        "for subject, df_pat in df_clean.groupby(\"Subject ID\"):\n",
        "\n",
        "  # Create the patient directory\n",
        "  patient_converted_dir = converted_dir.joinpath(subject)\n",
        "  patient_converted_dir.mkdir(exist_ok=True, parents=True)\n",
        "\n",
        "  # Convert the CT Image\n",
        "  ct_row = df_pat[df_pat[\"Modality\"] == \"CT\"].iloc[0]\n",
        "  ct_directory = dicom_path.joinpath(ct_row[\"File Location\"])\n",
        "  ct_image = read_dicom_image_to_sitk(ct_directory)\n",
        "  output_file = patient_converted_dir.joinpath(\"CT.nii.gz\")\n",
        "  sitk.WriteImage(ct_image, str(output_file))\n",
        "\n",
        "  # Convert the Structures\n",
        "  rtstruct_row = df_pat[df_pat[\"Modality\"] == \"RTSTRUCT\"].iloc[0]\n",
        "  rtstruct_dir = dicom_path.joinpath(rtstruct_row[\"File Location\"])\n",
        "  rtstruct_file = list(rtstruct_dir.glob(\"*\"))[0]\n",
        "  convert_rtstruct(ct_directory, rtstruct_file, output_dir=patient_converted_dir)\n",
        "\n",
        "  # Prepare and save the visualisation\n",
        "  vis = ImageVisualiser(ct_image)\n",
        "  contours = {s.name.split(\".\")[0].replace(\"Struct_\", \"\"): sitk.ReadImage(str(s)) for s in patient_converted_dir.glob(\"Struct_*.nii.gz\")}\n",
        "  vis.add_contour(contours)\n",
        "  fig = vis.show()\n",
        "  output_file_path = patient_converted_dir.joinpath(\"visualisation.png\")\n",
        "  fig.savefig(output_file_path, dpi=fig.dpi)"
      ]
    },
    {
      "cell_type": "markdown",
      "metadata": {
        "id": "e-m_eJokI3Db"
      },
      "source": [
        "We can now browse our converted files for the 3 patients within the `converted` directory. We can look at the `visualisation.png` file for a quick snapshot of the data.\n",
        "\n",
        "The next thing you'll notice is that there are many structures which we may not be interested in. In addition these structures aren't consistently names between the dataset. In the final section of this session we will look at how we might pick the structures we would like to use to train an auto-segmentation algorithm."
      ]
    },
    {
      "cell_type": "markdown",
      "metadata": {
        "id": "Zok_Fn01v5nk"
      },
      "source": [
        "## Structure name standardisaton\n",
        "\n",
        "In real-world data we will often see that structure names aren't not consistently defined in the DICOM data. TG-263 was recently released to help resolve this issue, however it is not adopted by all departments. In this section we will define the TG-263 name of the structures we would like to use to train an auto-segmentation algorithm and use the Python package `textdistance` to attempt to automatically select these in our dataset."
      ]
    },
    {
      "cell_type": "code",
      "execution_count": null,
      "metadata": {
        "id": "urwJ03GfVnTa"
      },
      "outputs": [],
      "source": [
        "tg_263_structure_names = [\n",
        "    \"Parotid_L\",\n",
        "    \"Parotid_R\",\n",
        "    \"Brainstem\",\n",
        "    \"External\"\n",
        "  ]"
      ]
    },
    {
      "cell_type": "markdown",
      "metadata": {
        "id": "X-Uds1ODxVW1"
      },
      "source": [
        "### Determine structure names in our dataset\n",
        "\n",
        "First let's inspect all the different structure names we have in our dataset."
      ]
    },
    {
      "cell_type": "code",
      "execution_count": null,
      "metadata": {
        "id": "fwvpcu0gKjw1"
      },
      "outputs": [],
      "source": [
        "patient_directories = list(converted_dir.glob(\"*\"))\n",
        "\n",
        "patient_structures = {}\n",
        "for pat_dir in patient_directories:\n",
        "\n",
        "  pat = pat_dir.name\n",
        "  print(f\"Patient: {pat}\")\n",
        "  \n",
        "  structures = [s.name.replace(\"Struct_\", \"\").replace(\".nii.gz\", \"\") for s in pat_dir.glob(\"Struct_*.nii.gz\")]\n",
        "  print(structures)\n",
        "  patient_structures[pat] = structures\n",
        "  print(\"-----\")"
      ]
    },
    {
      "cell_type": "markdown",
      "metadata": {
        "id": "wbn3yAdCxZMR"
      },
      "source": [
        "### Match to standardised names\n",
        "\n",
        "Here we use the Jaccard method of scoring how well the different structure names match the TG-263 standard name. We then select the structure with the highest score per patient."
      ]
    },
    {
      "cell_type": "code",
      "execution_count": null,
      "metadata": {
        "id": "4tUPl0-CElNw"
      },
      "outputs": [],
      "source": [
        "selected_pat_structures = {}\n",
        "for pat in patient_structures:\n",
        "  \n",
        "  structure_names = patient_structures[pat]\n",
        "  df_structures = pd.DataFrame(index=structure_names, columns=tg_263_structure_names)\n",
        "  df_structures = df_structures.apply(lambda col: [textdistance.jaccard.similarity(col.name, x) for x in col.index])\n",
        "\n",
        "  print(f\"Patient: {pat}\")\n",
        "  selected_structures = df_structures.idxmax()\n",
        "  selected_pat_structures[pat] = selected_structures\n",
        "  print(selected_structures)\n",
        "  print(\"-----\")\n"
      ]
    },
    {
      "cell_type": "markdown",
      "metadata": {
        "id": "Mz8f8PBUMsm6"
      },
      "source": [
        "### Select Cleaned Structures\n",
        "\n",
        "Let's create a new directory to hold the clean data."
      ]
    },
    {
      "cell_type": "code",
      "execution_count": null,
      "metadata": {
        "id": "DptsqHSalx2h"
      },
      "outputs": [],
      "source": [
        "clean_directory = Path(\"clean\")\n",
        "\n",
        "for pat in selected_pat_structures:\n",
        "\n",
        "  patient_directory = converted_dir.joinpath(pat)\n",
        "  clean_pat_directory = clean_directory.joinpath(pat)\n",
        "  clean_pat_directory.mkdir(exist_ok=True, parents=True)\n",
        "\n",
        "  # Copy the standardised structure files to the clean directory\n",
        "  for standard_name in tg_263_structure_names:\n",
        "    original_name = selected_pat_structures[pat][standard_name]\n",
        "    original_filename = f\"Struct_{original_name}.nii.gz\"\n",
        "    original_file = patient_directory.joinpath(original_filename)\n",
        "\n",
        "    clean_file = clean_pat_directory.joinpath(f\"{standard_name}.nii.gz\")\n",
        "    shutil.copyfile(original_file, clean_file)\n",
        "\n",
        "  # Also copy the CT image to the clean directory\n",
        "  original_ct = patient_directory.joinpath(\"CT.nii.gz\")\n",
        "  clean_ct = clean_pat_directory.joinpath(\"CT.nii.gz\")\n",
        "  shutil.copyfile(original_ct, clean_ct)\n",
        "\n",
        "  # Finally prepare a visualisation of our cleaned up data\n",
        "  ct_image = sitk.ReadImage(str(clean_ct))\n",
        "  vis = ImageVisualiser(ct_image)\n",
        "  contours = {s.name.split(\".\")[0]: sitk.ReadImage(str(s)) for s in clean_pat_directory.glob(\"*.nii.gz\") if not s.name.startswith(\"CT\")}\n",
        "  vis.add_contour(contours)\n",
        "  fig = vis.show()\n",
        "  fig.savefig(clean_pat_directory.joinpath(\"visualisation.png\"), dpi=fig.dpi)\n"
      ]
    },
    {
      "cell_type": "markdown",
      "metadata": {
        "id": "s4iI-MOOP24c"
      },
      "source": [
        "## Wrap Up\n",
        "\n",
        "And we're done. You can now explore the clean data in the `clean` directory. You may now want to delete the `converted` directory and potentially the orginal `dicom` directory.\n",
        "\n",
        "You're now ready to proceed to the final session of the workshop where we will train an auto-segmentation model using our cleaned up data!\n",
        "\n"
      ]
    },
    {
      "cell_type": "code",
      "execution_count": null,
      "metadata": {
        "id": "tT-Tx2iuR5im"
      },
      "outputs": [],
      "source": [
        "# Uncomment the following to lines and run to clean up the data we don't need anymore\n",
        "# shutil.rmtree(converted_dir)\n",
        "# shutil.rmtree(dicom_path)"
      ]
    },
    {
      "cell_type": "markdown",
      "metadata": {
        "id": "-MTgZwEB5s1J"
      },
      "source": [
        "## Bonus: DICOM directory crawler\n",
        "\n",
        "Previously we had a file named `metadata.csv` which contained useful information about the DICOM files we downloaded. Since this won't always be available, we will implement our own DICOM directory crawler here to generate our own custom meta data CSV file.\n",
        "\n",
        "As an added bonus here, we use the tqdm library (https://github.com/tqdm/tqdm) to show the progress of our crawler."
      ]
    },
    {
      "cell_type": "markdown",
      "metadata": {
        "id": "nMHumqp06CyV"
      },
      "source": [
        "First, let's define which DICOM header attributes we want to keep track of as we crawl our DICOM files."
      ]
    },
    {
      "cell_type": "code",
      "execution_count": null,
      "metadata": {
        "id": "bKt4hbON6lSu"
      },
      "outputs": [],
      "source": [
        "track_headers = {\n",
        "    \"SeriesInstanceUID\": \"Series UID\",\n",
        "    \"PatientID\": \"Subject ID\",\n",
        "    \"StudyInstanceUID\": \"Study UID\",\n",
        "    \"StudyDescription\": \"Study Description\",\n",
        "    \"StudyDate\": \"Study Date\",\n",
        "    \"SeriesDescription\": \"Series Description\",\n",
        "    \"Manufacturer\": \"Manufacturer\",\n",
        "    \"Modality\": \"Modality\",\n",
        "    \"SOPClassUID\": \"SOP Class UID\",\n",
        "}"
      ]
    },
    {
      "cell_type": "markdown",
      "metadata": {
        "id": "XG8GQyDa7l76"
      },
      "source": [
        "Now we'll loop over each DICOM file in our `dicom_path` (the `**` ensures files in nested folders are also found). As we crawl these files we store the information we need in our `series` dictionary.\n",
        "\n",
        "Take note of the progress bar displayed. This is really useful when crawling a large number of files to know how much longer the operation will take."
      ]
    },
    {
      "cell_type": "code",
      "execution_count": null,
      "metadata": {
        "id": "9_LXAxsv0cQL"
      },
      "outputs": [],
      "source": [
        "series = {}\n",
        "\n",
        "for dcm_file in tqdm(list(dicom_path.glob(\"**/*.dcm\"))):\n",
        "\n",
        "  ds = pydicom.read_file(dcm_file)\n",
        "  if not ds.SeriesInstanceUID in series:\n",
        "    series[ds.SeriesInstanceUID] = {}\n",
        "\n",
        "    for k in track_headers:\n",
        "      if k in ds:\n",
        "        series[ds.SeriesInstanceUID][track_headers[k]] = ds[k].value\n",
        "\n",
        "    series[ds.SeriesInstanceUID][\"Number of Images\"] = 0\n",
        "    series[ds.SeriesInstanceUID][\"File Location\"] = dcm_file.parent\n",
        "\n",
        "  series[ds.SeriesInstanceUID][\"Number of Images\"] += 1"
      ]
    },
    {
      "cell_type": "markdown",
      "metadata": {
        "id": "HcQ75x6-8LKQ"
      },
      "source": [
        "Finally, we convert our series dictionary object to and pandas DataFrame. Like this we can save it off and work with the meta data as we did throughout this notebook!"
      ]
    },
    {
      "cell_type": "code",
      "execution_count": null,
      "metadata": {
        "id": "IKAes1mi1MSB"
      },
      "outputs": [],
      "source": [
        "df_custom = pd.DataFrame(series)\n",
        "\n",
        "# Due to the shape of our dictionary, we need to reshape our resulting DataFrame.\n",
        "df_custom = df_custom.transpose().reset_index(drop=True)\n",
        "\n",
        "# Our dates aren't Python dates yet either (simply strings pulled from the DICOM header)\n",
        "# The following line converts these to Python datatime objects.\n",
        "df_custom[\"Study Date\"] = df_custom[\"Study Date\"].apply(lambda x: datetime.strptime(x, \"%Y%m%d\"))\n",
        "\n",
        "# Finally, we'll save off our custom meta data alongside our other meta data file.\n",
        "# Take a look to inspect the differences\n",
        "output_csv_file = dicom_path.joinpath(\"HNSCC\", \"custom_metadata.csv\")\n",
        "df_custom.to_csv(output_csv_file)\n",
        "\n",
        "# And also display it in the notebook\n",
        "df_custom"
      ]
    },
    {
      "cell_type": "code",
      "execution_count": null,
      "metadata": {
        "id": "rC03A6Rx7KH2"
      },
      "outputs": [],
      "source": []
    }
  ],
  "metadata": {
    "colab": {
      "collapsed_sections": [],
      "provenance": []
    },
    "kernelspec": {
      "display_name": "Python 3.8.0 ('platipy-Ut1mjAmS-py3.8')",
      "language": "python",
      "name": "python3"
    },
    "language_info": {
      "name": "python",
      "version": "3.8.0"
    },
    "vscode": {
      "interpreter": {
        "hash": "950d949bcc8447743ba2e2f4f81e1f06919534c5bd1d053b1a2c5f1f73baee7b"
      }
    }
  },
  "nbformat": 4,
  "nbformat_minor": 0
}
