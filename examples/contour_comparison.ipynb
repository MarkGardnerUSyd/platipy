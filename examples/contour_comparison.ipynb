{
 "cells": [
  {
   "attachments": {},
   "cell_type": "markdown",
   "metadata": {},
   "source": [
    "# Contour Comparison\n",
    "\n",
    "This notebook demonstrates how to compute compute contour comparison metrics using PlatiPy.\n",
    "\n",
    "## Import Modules"
   ]
  },
  {
   "cell_type": "code",
   "execution_count": null,
   "metadata": {},
   "outputs": [],
   "source": [
    "try:\n",
    "    import platipy\n",
    "except:\n",
    "    !pip install platipy\n",
    "    import platipy\n",
    "\n",
    "from pathlib import Path\n",
    "\n",
    "import pandas as pd\n",
    "import SimpleITK as sitk\n",
    "\n",
    "%matplotlib inline\n",
    "\n",
    "from platipy.imaging.tests.data import download_and_extract_zip_file\n",
    "from platipy.imaging.label.comparison import (\n",
    "    compute_metric_dsc,\n",
    "    compute_metric_hd,\n",
    "    compute_metric_masd,\n",
    "    compute_volume_metrics,\n",
    "    compute_surface_metrics,\n",
    "    compute_surface_dsc)\n",
    "from platipy.imaging.visualisation.comparison import contour_comparison\n",
    "from platipy.imaging.utils.crop import label_to_roi\n"
   ]
  },
  {
   "attachments": {},
   "cell_type": "markdown",
   "metadata": {},
   "source": [
    "## Download Test Data\n",
    "\n",
    "This will download some sample data which was generated using the TCIA LCTSC dataset. The data contains some manual contours as well as auto contours.\n",
    "\n",
    "> Note the contours in this dataset are for demonstration purposes only. No emphasis was placed on the quality of these contours."
   ]
  },
  {
   "cell_type": "code",
   "execution_count": null,
   "metadata": {
    "tags": []
   },
   "outputs": [],
   "source": [
    "data_path = Path(\"./data/contour_comparison_sample\")\n",
    "\n",
    "test_data_zip_url = \"https://zenodo.org/record/7519243/files/platipy_contour_comparison_testdata.zip?download=1\"\n",
    "\n",
    "# Only download data if we haven't already downloaded the data previously\n",
    "if len(list(data_path.glob(\"*/*.nii.gz\"))) == 0:\n",
    "    download_and_extract_zip_file(test_data_zip_url, data_path)"
   ]
  },
  {
   "cell_type": "markdown",
   "metadata": {},
   "source": [
    "## Load data\n",
    "\n",
    "Let's read in the data that we've downloaded"
   ]
  },
  {
   "cell_type": "code",
   "execution_count": null,
   "metadata": {},
   "outputs": [],
   "source": [
    "ct_image = sitk.ReadImage(str(data_path.joinpath(\"image\", \"CT.nii.gz\")))\n",
    "\n",
    "structure_names =[\"ESOPHAGUS\", \"HEART\", \"LUNG_L\", \"LUNG_R\", \"SPINALCORD\"]\n",
    "\n",
    "manual_structures = {\n",
    "    s: sitk.ReadImage(str(data_path.joinpath(\"manual\", f\"{s}.nii.gz\"))) for s in structure_names\n",
    "}\n",
    "\n",
    "auto_structures = {\n",
    "    s: sitk.ReadImage(str(data_path.joinpath(\"auto\", f\"{s}.nii.gz\"))) for s in structure_names\n",
    "}"
   ]
  },
  {
   "attachments": {},
   "cell_type": "markdown",
   "metadata": {},
   "source": [
    "## Compute Metrics (for single structure)\n",
    "\n",
    "The following cells demonstrate computing some common metrics between the manual and auto heart contour."
   ]
  },
  {
   "cell_type": "code",
   "execution_count": null,
   "metadata": {},
   "outputs": [],
   "source": [
    "heart_dsc = compute_metric_dsc(manual_structures[\"HEART\"], auto_structures[\"HEART\"])\n",
    "print(f\"Dice Similarity Coefficient for Heart is: {heart_dsc:.2f}\")"
   ]
  },
  {
   "cell_type": "code",
   "execution_count": null,
   "metadata": {},
   "outputs": [],
   "source": [
    "heart_hd = compute_metric_hd(manual_structures[\"HEART\"], auto_structures[\"HEART\"])\n",
    "print(f\"Hausdorff distance for Heart is: {heart_hd:.2f}mm\")"
   ]
  },
  {
   "cell_type": "code",
   "execution_count": null,
   "metadata": {},
   "outputs": [],
   "source": [
    "heart_masd = compute_metric_masd(manual_structures[\"HEART\"], auto_structures[\"HEART\"])\n",
    "print(f\"Mean Absolute Surface for Heart is: {heart_masd:.2f}mm\")"
   ]
  },
  {
   "cell_type": "code",
   "execution_count": null,
   "metadata": {},
   "outputs": [],
   "source": [
    "heart_surface_dsc = compute_surface_dsc(manual_structures[\"HEART\"], auto_structures[\"HEART\"])\n",
    "print(f\"Surface DSC for Heart with a tau of 3mm is: {heart_surface_dsc:.2f}\") # 3mm is the default value for tau\n",
    "\n",
    "heart_surface_dsc = compute_surface_dsc(manual_structures[\"HEART\"], auto_structures[\"HEART\"], tau=5)\n",
    "print(f\"Surface DSC for Heart with a tau of 5mm is: {heart_surface_dsc:.2f}\")"
   ]
  },
  {
   "attachments": {},
   "cell_type": "markdown",
   "metadata": {},
   "source": [
    "## Compute metrics (for multiple structures)\n",
    "\n",
    "This example loops over each structure and computes some volume metrics using the `compute_volume_metrics` helper function. These are tracked in a list and finally converted to a pandas DataFrame."
   ]
  },
  {
   "cell_type": "code",
   "execution_count": null,
   "metadata": {},
   "outputs": [],
   "source": [
    "result =  []\n",
    "for structure_name in manual_structures:\n",
    "\n",
    "\n",
    "    volume_dict = compute_volume_metrics(manual_structures[structure_name], auto_structures[structure_name])\n",
    "\n",
    "    structure_dict = {\n",
    "        \"structure\": structure_name,\n",
    "        **volume_dict,\n",
    "    }\n",
    "\n",
    "    result.append(structure_dict)\n",
    "\n",
    "df_metrics = pd.DataFrame(result)\n",
    "df_metrics"
   ]
  },
  {
   "attachments": {},
   "cell_type": "markdown",
   "metadata": {},
   "source": [
    "## Contour Comparison Function\n",
    "\n",
    "You can use the `contour_comparison` function to prepare a visualisation and return a pandas DataFrame of commonly used metrics."
   ]
  },
  {
   "cell_type": "code",
   "execution_count": null,
   "metadata": {},
   "outputs": [],
   "source": [
    "fig, df_mas = contour_comparison(\n",
    "    img = ct_image,\n",
    "    contour_dict_a = manual_structures,\n",
    "    contour_dict_b = auto_structures,\n",
    "    contour_label_a = \"MANUAL\",\n",
    "    contour_label_b = \"AUTO\",\n",
    "    structure_for_com = \"HEART\",\n",
    "    title='Segmentation Contour Comparison',\n",
    "    subtitle='',\n",
    "    subsubtitle='',\n",
    ")\n",
    "\n",
    "df_mas"
   ]
  },
  {
   "attachments": {},
   "cell_type": "markdown",
   "metadata": {},
   "source": [
    "## Set limits for visualisation\n",
    "\n",
    "You can pass through a dictionary in `img_vis_kw` to send specific keyword arguments to the [ImageVisualiser](https://pyplati.github.io/platipy/visualiser.html) class. In this example we set the limits of the visualisation to the area of the left and right lungs combined."
   ]
  },
  {
   "cell_type": "code",
   "execution_count": null,
   "metadata": {},
   "outputs": [],
   "source": [
    "(sag_size, cor_size, ax_size), (sag_0, cor_0, ax_0) = label_to_roi(\n",
    "            manual_structures[\"LUNG_L\"] | manual_structures[\"LUNG_R\"], expansion_mm=40\n",
    "        )\n",
    "limits = [ax_0,\n",
    "          ax_0 + ax_size,\n",
    "          cor_0,\n",
    "          cor_0 + cor_size,\n",
    "          sag_0,\n",
    "          sag_0 + sag_size,\n",
    "]\n",
    "\n",
    "fig, df_mas = contour_comparison(\n",
    "    img = ct_image,\n",
    "    contour_dict_a = manual_structures,\n",
    "    contour_dict_b = auto_structures,\n",
    "    contour_label_a = \"MANUAL\",\n",
    "    contour_label_b = \"AUTO\",\n",
    "    structure_for_com = \"ESOPHAGUS\",\n",
    "    title='Segmentation Contour Comparison',\n",
    "    subtitle='',\n",
    "    subsubtitle='',\n",
    "    img_vis_kw={\"limits\": limits},\n",
    ")"
   ]
  },
  {
   "attachments": {},
   "cell_type": "markdown",
   "metadata": {},
   "source": [
    "## Contour Comparison Reference\n",
    "\n",
    "You can find a full list of all contour comparison functions in the [PlatiPy documentation](https://pyplati.github.io/platipy/utils.html#module-platipy.imaging.label.comparison)."
   ]
  },
  {
   "cell_type": "code",
   "execution_count": null,
   "metadata": {},
   "outputs": [],
   "source": []
  }
 ],
 "metadata": {
  "kernelspec": {
   "display_name": "Python 3.8.0 ('platipy-Ut1mjAmS-py3.8')",
   "language": "python",
   "name": "python3"
  },
  "language_info": {
   "codemirror_mode": {
    "name": "ipython",
    "version": 3
   },
   "file_extension": ".py",
   "mimetype": "text/x-python",
   "name": "python",
   "nbconvert_exporter": "python",
   "pygments_lexer": "ipython3",
   "version": "3.8.0"
  },
  "vscode": {
   "interpreter": {
    "hash": "950d949bcc8447743ba2e2f4f81e1f06919534c5bd1d053b1a2c5f1f73baee7b"
   }
  }
 },
 "nbformat": 4,
 "nbformat_minor": 2
}
