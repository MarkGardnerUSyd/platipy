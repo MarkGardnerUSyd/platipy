{
 "cells": [
  {
   "attachments": {},
   "cell_type": "markdown",
   "metadata": {},
   "source": [
    "# Convert DICOM RTStruct to NIfTI mask\n",
    "\n",
    "This notebook demonstrates how use the rtstruct_to_nifti script to convert a DICOM RTStruct file to NIfTI contour masks."
   ]
  },
  {
   "attachments": {},
   "cell_type": "markdown",
   "metadata": {},
   "source": [
    "## Import required functions"
   ]
  },
  {
   "cell_type": "code",
   "execution_count": 22,
   "metadata": {},
   "outputs": [],
   "source": [
    "try:\n",
    "    import platipy\n",
    "except:\n",
    "    !pip install git+https://github.com/pyplati/platipy.git\n",
    "    import platipy\n",
    "\n",
    "from pathlib import Path\n",
    "\n",
    "from platipy.dicom.io.rtstruct_to_nifti import convert_rtstruct\n",
    "from platipy.imaging.tests.data import get_lung_dicom"
   ]
  },
  {
   "attachments": {},
   "cell_type": "markdown",
   "metadata": {},
   "source": [
    "## Fetch some test DICOM data"
   ]
  },
  {
   "cell_type": "code",
   "execution_count": 23,
   "metadata": {},
   "outputs": [],
   "source": [
    "dcm_path = get_lung_dicom(output_directory=\"./data/dicom\")"
   ]
  },
  {
   "attachments": {},
   "cell_type": "markdown",
   "metadata": {},
   "source": [
    "## Define the RTSTRUCT and CT image paths\n",
    "\n",
    "The image series is required as the output masks will be generated in the same image space as this series."
   ]
  },
  {
   "cell_type": "code",
   "execution_count": null,
   "metadata": {},
   "outputs": [],
   "source": [
    "ct_path = dcm_path.joinpath(\"LCTSC-Test-S1-101\", \"1.3.6.1.4.1.14519.5.2.1.7014.4598.106943890850011666503487579262\")\n",
    "rts_path = dcm_path.joinpath(\"LCTSC-Test-S1-101\", \"1.3.6.1.4.1.14519.5.2.1.7014.4598.280355341349691222365783556597\", \"1-102.dcm\")"
   ]
  },
  {
   "attachments": {},
   "cell_type": "markdown",
   "metadata": {},
   "source": [
    "## Convert the RTSTRUCT\n",
    "\n",
    "Call the convert_rtstruct function to generate the contours.\n",
    "\n",
    "Optional settings defining the prefix for the mask files generated and the output directory are also passed in to the function."
   ]
  },
  {
   "cell_type": "code",
   "execution_count": 21,
   "metadata": {},
   "outputs": [],
   "source": [
    "prefix = 'Case_101_' # Define a prefix for generated mask files\n",
    "output_path = Path(\"data/masks/LCTSC-Test-S1-101\") # The path in which to place generated files\n",
    "output_path.mkdir(parents=True, exist_ok=True)\n",
    "\n",
    "# Pass these additional settings to the function as keyword arguments\n",
    "convert_rtstruct(\n",
    "    ct_path,\n",
    "    rts_path,\n",
    "    prefix=prefix,\n",
    "    output_dir=output_path\n",
    ")"
   ]
  },
  {
   "attachments": {},
   "cell_type": "markdown",
   "metadata": {},
   "source": [
    "Another setting which can be useful is to also output the image series as a NIfTI file into the output directory. You can also specify the pixel spacing of the output:"
   ]
  },
  {
   "cell_type": "code",
   "execution_count": 10,
   "metadata": {},
   "outputs": [],
   "source": [
    "img_out = 'ct_image' # The name of the output image\n",
    "\n",
    "# A list containing the desired image spacing (x,y,z).\n",
    "# A value of 0 indicates that the spacing should not be \n",
    "# changed in that dimension.\n",
    "px_space = [1,1,0]\n",
    "\n",
    "# Pass these additional settings to the function as keyword arguments\n",
    "convert_rtstruct(\n",
    "    ct_path,\n",
    "    rts_path,\n",
    "    prefix=prefix,\n",
    "    output_dir=output_path,\n",
    "    output_img=img_out,\n",
    "    spacing=px_space\n",
    ")"
   ]
  },
  {
   "attachments": {},
   "cell_type": "markdown",
   "metadata": {},
   "source": [
    "Finally you can look in the `output_path` directory to see the generated NIfTI files!"
   ]
  },
  {
   "cell_type": "markdown",
   "metadata": {},
   "source": []
  }
 ],
 "metadata": {
  "kernelspec": {
   "display_name": "Python 3.8.0 ('platipy-Ut1mjAmS-py3.8')",
   "language": "python",
   "name": "python3"
  },
  "language_info": {
   "codemirror_mode": {
    "name": "ipython",
    "version": 3
   },
   "file_extension": ".py",
   "mimetype": "text/x-python",
   "name": "python",
   "nbconvert_exporter": "python",
   "pygments_lexer": "ipython3",
   "version": "3.8.0"
  },
  "vscode": {
   "interpreter": {
    "hash": "950d949bcc8447743ba2e2f4f81e1f06919534c5bd1d053b1a2c5f1f73baee7b"
   }
  }
 },
 "nbformat": 4,
 "nbformat_minor": 2
}
