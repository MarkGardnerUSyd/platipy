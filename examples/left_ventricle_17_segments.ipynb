{
 "cells": [
  {
   "attachments": {},
   "cell_type": "markdown",
   "id": "dominant-czech",
   "metadata": {},
   "source": [
    "# Cardiac LV 17-segment model\n",
    "\n",
    "This notebook demonstrates how to use the geometric algorithm to automatically segment the 17-segment Left Ventricle myocardium model defined by the AHA: https://www.ahajournals.org/doi/pdf/10.1161/hc0402.102975"
   ]
  },
  {
   "cell_type": "code",
   "execution_count": null,
   "id": "derived-input",
   "metadata": {},
   "outputs": [],
   "source": [
    "try:\n",
    "    import platipy\n",
    "except:\n",
    "    # Install platipy with the 'cardiac' extra since that contains some extra libraries we need.\n",
    "    !pip install platipy[cardiac]\n",
    "    import platipy\n",
    "\n",
    "from pathlib import Path\n",
    "import matplotlib.pyplot as plt\n",
    "\n",
    "import SimpleITK as sitk\n",
    "import numpy as np\n",
    "\n",
    "from platipy.imaging import ImageVisualiser\n",
    "from platipy.imaging.label.utils import get_com\n",
    "from platipy.imaging.utils.io import write_nrrd_structure_set\n",
    "from platipy.imaging.utils.ventricle import generate_left_ventricle_segments\n",
    "\n",
    "from platipy.imaging.projects.cardiac.run import install_open_atlas\n"
   ]
  },
  {
   "attachments": {},
   "cell_type": "markdown",
   "id": "4748d217",
   "metadata": {},
   "source": [
    "## Download Sample Data\n",
    "\n",
    "PlatiPy's cardiac segmentation tool uses an atlas as part of that segmentation. For this example we download that atlas to demonstrate the 17-segment auto-segmentation."
   ]
  },
  {
   "cell_type": "code",
   "execution_count": null,
   "id": "1664aaf2",
   "metadata": {},
   "outputs": [],
   "source": [
    "atlas_path = Path(\"data/atlas\")\n",
    "\n",
    "if not atlas_path.exists():\n",
    "    install_open_atlas(atlas_path)"
   ]
  },
  {
   "attachments": {},
   "cell_type": "markdown",
   "id": "870e6f73",
   "metadata": {},
   "source": [
    "## Read Data\n",
    "\n",
    "We read in some of the data we downloaded. The required structures are: Left Ventricle, Left Atrium, Right Ventricle and the whole heart. The CT image is loaded but is only needed for visualisation purposes."
   ]
  },
  {
   "cell_type": "code",
   "execution_count": null,
   "id": "accredited-detection",
   "metadata": {},
   "outputs": [],
   "source": [
    "patid = \"LUNG1-002\"\n",
    "\n",
    "image_path = atlas_path.joinpath(patid, \"IMAGES\", \"CT.nii.gz\")\n",
    "image = sitk.ReadImage(str(image_path)) # onyl used for visualisation\n",
    "\n",
    "contours = {}\n",
    "\n",
    "lv_path = atlas_path.joinpath(patid, \"STRUCTURES\", \"Ventricle_L.nii.gz\")\n",
    "contours[\"Ventricle_L\"] = sitk.ReadImage(str(lv_path))\n",
    "\n",
    "la_path = atlas_path.joinpath(patid, \"STRUCTURES\", \"Atrium_L.nii.gz\")\n",
    "contours[\"Atrium_L\"] = sitk.ReadImage(str(la_path))\n",
    "\n",
    "rv_path = atlas_path.joinpath(patid, \"STRUCTURES\", \"Ventricle_R.nii.gz\")\n",
    "contours[\"Ventricle_R\"] = sitk.ReadImage(str(rv_path))\n",
    "\n",
    "heart_path = atlas_path.joinpath(patid, \"STRUCTURES\", \"Heart.nii.gz\")\n",
    "contours[\"Heart\"] = sitk.ReadImage(str(heart_path))"
   ]
  },
  {
   "attachments": {},
   "cell_type": "markdown",
   "id": "3ab8a961",
   "metadata": {},
   "source": [
    "## Generate 17 LV Segments\n",
    "\n",
    "The `generate_left_ventricle_segments` function is run which returns a dictionary where the key is the segment ID (i.e. Ventricle_L_Segment1, Ventricle_L_Segment2, ...) and the value is the segment auto-contour (as a SimpleITK.Image).\n",
    "\n",
    "See the [documentation](https://pyplati.github.io/platipy/utils.html#module-platipy.imaging.utils.ventricle) for additional options you can specify."
   ]
  },
  {
   "cell_type": "code",
   "execution_count": null,
   "id": "short-mercury",
   "metadata": {},
   "outputs": [],
   "source": [
    "lv_segments = generate_left_ventricle_segments(contours, verbose=True)"
   ]
  },
  {
   "attachments": {},
   "cell_type": "markdown",
   "id": "4dfa6fa6",
   "metadata": {},
   "source": [
    "## Visualise Segments\n",
    "\n",
    "Here we generate a figure using the CT loaded to visualise the results."
   ]
  },
  {
   "cell_type": "code",
   "execution_count": null,
   "id": "liked-geology",
   "metadata": {},
   "outputs": [],
   "source": [
    "vis = ImageVisualiser(image, cut=get_com(contours[\"Ventricle_L\"]), figure_size_in=6)\n",
    "vis.add_contour(contours)\n",
    "vis.add_contour(lv_segments)\n",
    "vis.set_limits_from_label(contours[\"Heart\"], expansion=20)\n",
    "fig = vis.show()"
   ]
  },
  {
   "attachments": {},
   "cell_type": "markdown",
   "id": "05bc61a8",
   "metadata": {},
   "source": [
    "Optionally save a NRRD file containing all LV segments. This is useful for loading into Slicer (for example).\n"
   ]
  },
  {
   "cell_type": "code",
   "execution_count": null,
   "id": "married-equilibrium",
   "metadata": {},
   "outputs": [],
   "source": [
    "write_nrrd_structure_set(lv_segments, atlas_path.joinpath(patid, \"STRUCTURES\", \"LV_Segments.nrrd\"), colormap=plt.cm.rainbow)"
   ]
  },
  {
   "cell_type": "code",
   "execution_count": null,
   "id": "ef8fac0b",
   "metadata": {},
   "outputs": [],
   "source": []
  }
 ],
 "metadata": {
  "kernelspec": {
   "display_name": "Python 3",
   "language": "python",
   "name": "python3"
  },
  "language_info": {
   "codemirror_mode": {
    "name": "ipython",
    "version": 3
   },
   "file_extension": ".py",
   "mimetype": "text/x-python",
   "name": "python",
   "nbconvert_exporter": "python",
   "pygments_lexer": "ipython3",
   "version": "3.9.9"
  }
 },
 "nbformat": 4,
 "nbformat_minor": 5
}
