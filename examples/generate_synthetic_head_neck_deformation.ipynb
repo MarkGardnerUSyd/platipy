{
 "cells": [
  {
   "cell_type": "markdown",
   "metadata": {},
   "source": [
    "# Synthetic Deformation Head and Neck Examples"
   ]
  },
  {
   "cell_type": "code",
   "execution_count": 1,
   "metadata": {},
   "outputs": [],
   "source": [
    "try:\n",
    "    import platipy\n",
    "except:\n",
    "    !pip install git+https://github.com/pyplati/platipy.git\n",
    "    import platipy\n",
    "\n",
    "import re\n",
    "from pathlib import Path\n",
    "\n",
    "import SimpleITK as sitk\n",
    "\n",
    "from platipy.dicom.download.tcia import get_hn_data\n",
    "from platipy.dicom.io.crawl import process_dicom_directory\n",
    "\n",
    "from platipy.imaging.registration.utils import apply_transform\n",
    "\n",
    "from platipy.imaging.visualisation.visualiser import ImageVisualiser\n",
    "from platipy.imaging.visualisation.utils import project_onto_arbitrary_plane\n",
    "from platipy.imaging.visualisation.animation import generate_animation_from_image_sequence\n",
    "\n",
    "from platipy.imaging.utils.crop import label_to_roi\n",
    "from platipy.imaging.label.utils import get_com\n",
    "\n",
    "from platipy.imaging.tests.data import get_lung_nifti\n",
    "\n",
    "from platipy.imaging.generation.mask import (\n",
    "get_bone_mask,\n",
    "get_external_mask)\n",
    "\n",
    "from platipy.imaging.generation.dvf import (\n",
    "generate_field_shift,\n",
    "generate_field_asymmetric_contract,\n",
    "generate_field_asymmetric_extend,\n",
    "generate_field_expand,\n",
    "generate_field_radial_bend\n",
    ")\n"
   ]
  },
  {
   "cell_type": "markdown",
   "metadata": {},
   "source": [
    "## First grab some sample data from the TCIA\n",
    "\n",
    "In the below cell this is also converted to Nifti format"
   ]
  },
  {
   "cell_type": "code",
   "execution_count": null,
   "metadata": {
    "tags": [
     "outputPrepend"
    ]
   },
   "outputs": [],
   "source": [
    "data = get_hn_data(number_of_patients=1)\n",
    "patient_id = next(iter(data))\n",
    "\n",
    "nifti_directory = Path(\"./nifti_output\")\n",
    "process_dicom_directory(data[patient_id], output_directory=\"nifti_output\")\n"
   ]
  },
  {
   "cell_type": "markdown",
   "metadata": {},
   "source": [
    "## Let's load the CT Image and structures\n",
    "\n",
    "We also generate an external mask and a bone mask for use later on."
   ]
  },
  {
   "cell_type": "code",
   "execution_count": null,
   "metadata": {},
   "outputs": [],
   "source": [
    "ct_path = next(iter(nifti_directory.glob(f\"{patient_id}/IMAGES/*CT*.nii.gz\")))\n",
    "ct = sitk.ReadImage(str(ct_path))\n",
    "structure_paths = nifti_directory.glob(f\"{patient_id}/STRUCTURES/*.nii.gz\")\n",
    "structures = {re.findall(\".*_RTSTRUCT_(.*).nii.gz\", p.name)[0]: sitk.ReadImage(str(p)) for p in structure_paths}\n",
    "external_mask = get_external_mask(ct, dilate=15)\n",
    "bone_mask = get_bone_mask(ct)"
   ]
  },
  {
   "cell_type": "markdown",
   "metadata": {},
   "source": [
    "## Before we jump in to the the synthetic deformations, here's a tip on getting more information\n",
    "\n",
    "If you're unsure what a particular function does, you can view the docstring like in the following cell:"
   ]
  },
  {
   "cell_type": "code",
   "execution_count": null,
   "metadata": {},
   "outputs": [],
   "source": [
    "generate_field_shift?"
   ]
  },
  {
   "cell_type": "markdown",
   "metadata": {},
   "source": [
    "## Now we can generate a synthetic deformation\n",
    "\n",
    "In the cell below, one of the structures (here the Left Parotid). We define a vector shift and then apply smoothing for more realistic deformation.\n",
    "\n",
    "Finally, the ct image is deformed using the synthetic field. We also visualise each of these in the notebook using platipy's visualisation tools."
   ]
  },
  {
   "cell_type": "code",
   "execution_count": null,
   "metadata": {},
   "outputs": [],
   "source": [
    "label_deformed, dvf_transform, dvf_field = generate_field_shift(\n",
    "    structures[\"PAROTID_LEFT\"],\n",
    "    vector_shift=(-20,0,0),\n",
    "    gaussian_smooth=5\n",
    ")\n",
    "ct_deformed = apply_field(ct, dvf_transform, structure=False, default_value=-1000)\n",
    "\n",
    "vis = ImageVisualiser(image=ct, cut=get_com(structures[\"PAROTID_LEFT\"]), figure_size_in=6)\n",
    "vis.set_limits_from_label(label_deformed, expansion=[20, 60, 60])\n",
    "vis.add_comparison_overlay(ct_deformed)\n",
    "vis.add_vector_overlay(dvf_field, arrow_scale=0.25, subsample=(2,8,8), color_function=\"magnitude\")\n",
    "vis.add_contour(label_deformed, \"Left Parotid Shifted\")\n",
    "vis.add_contour(structures[\"PAROTID_LEFT\"], \"Left Parotid Orig\")\n",
    "fig = vis.show()"
   ]
  },
  {
   "cell_type": "markdown",
   "metadata": {},
   "source": [
    "## To apply the same synthetic deformation to all structures, you can use the following code\n",
    "\n",
    "This uses the same apply_field function as was used to deform the CT above."
   ]
  },
  {
   "cell_type": "code",
   "execution_count": null,
   "metadata": {},
   "outputs": [],
   "source": [
    "deformed_structures = {}\n",
    "for struct in structures:\n",
    "    print(f\"Deforming: {struct}\")\n",
    "    deformed_structures[struct] = apply_field(structures[struct], dvf_transform, structure=True, default_value=0)"
   ]
  },
  {
   "cell_type": "markdown",
   "metadata": {},
   "source": [
    "## Now we'll do an expansion\n",
    "\n",
    "Once again on the Left Parotid. The generate_field_expand function takes a structure and expands or shrinks the structure.\n",
    "The variable *expand* defines the expansion (or shrinking) in mm.\n",
    "It can also be defined as a 3D vector, in which case the expansion is anisotropic."
   ]
  },
  {
   "cell_type": "code",
   "execution_count": null,
   "metadata": {},
   "outputs": [],
   "source": [
    "label_deformed, dvf_transform, dvf_field = generate_field_expand(structures[\"PAROTID_LEFT\"], bone_mask=bone_mask, expand=10, gaussian_smooth=5)\n",
    "\n",
    "ct_deformed = apply_field(ct, dvf_transform, structure=False, default_value=-1000)\n",
    "struct_deformed = apply_field(struct, dvf_transform, structure=True, default_value=0)\n",
    "\n",
    "vis = ImageVisualiser(image=ct, cut=get_com(structures[\"PAROTID_LEFT\"]), figure_size_in=6)\n",
    "vis.set_limits_from_label(label_deformed, expansion=[20, 60, 60])\n",
    "vis.add_comparison_overlay(ct_deformed)\n",
    "vis.add_vector_overlay(dvf_field, arrow_scale=0.25, subsample=(2,8,8), color_function=\"magnitude\")\n",
    "vis.add_contour(structures[\"PAROTID_LEFT\"], \"Left Parotid Orig\")\n",
    "vis.add_contour(label_deformed, \"Left Parotid Expanded\")\n",
    "fig = vis.show()"
   ]
  },
  {
   "cell_type": "markdown",
   "metadata": {},
   "source": [
    "## The same function can be used to expand/shrink in different directions"
   ]
  },
  {
   "cell_type": "code",
   "execution_count": null,
   "metadata": {},
   "outputs": [],
   "source": [
    "label_deformed, dvf_transform, dvf_field = generate_field_expand(structures[\"PAROTID_LEFT\"], bone_mask=bone_mask, expand=[20, 0, -10], gaussian_smooth=2)\n",
    "\n",
    "ct_deformed = apply_field(ct, dvf_transform, structure=False, default_value=-1000)\n",
    "\n",
    "vis = ImageVisualiser(image=ct, cut=get_com(structures[\"PAROTID_LEFT\"]), figure_size_in=6)\n",
    "vis.set_limits_from_label(label_deformed, expansion=[20, 60, 60])\n",
    "vis.add_comparison_overlay(ct_deformed)\n",
    "vis.add_vector_overlay(dvf_field, arrow_scale=0.25, subsample=(2,8,8), color_function=\"magnitude\")\n",
    "vis.add_contour(structures[\"PAROTID_LEFT\"], \"Left Parotid Orig\")\n",
    "vis.add_contour(label_deformed, \"Left Parotid Shrunk\")\n",
    "fig = vis.show()"
   ]
  },
  {
   "cell_type": "markdown",
   "metadata": {},
   "source": [
    "## This next example demonstrates an asymmetric contraction\n",
    "\n",
    "The generate_field_asymmetric_contract function takes a structure and contracts in each dimension individually (axial, coronal, sagittal)."
   ]
  },
  {
   "cell_type": "code",
   "execution_count": null,
   "metadata": {},
   "outputs": [],
   "source": [
    "label_deformed, dvf_transform, dvf_field = generate_field_asymmetric_contract(\n",
    "    structures[\"PAROTID_LEFT\"],\n",
    "    vector_asymmetric_contract=(-20,10,0),\n",
    "    gaussian_smooth=5\n",
    ")\n",
    "\n",
    "ct_deformed = apply_field(ct, dvf_transform, structure=False, default_value=-1000)\n",
    "\n",
    "vis = ImageVisualiser(image=ct, cut=get_com(structures[\"PAROTID_LEFT\"]), figure_size_in=6)\n",
    "vis.set_limits_from_label(label_deformed, expansion=[20, 60, 60])\n",
    "vis.add_comparison_overlay(ct_deformed)\n",
    "vis.add_vector_overlay(dvf_field, arrow_scale=0.25, subsample=(2,8,8), color_function=\"magnitude\")\n",
    "vis.add_contour(structures[\"PAROTID_LEFT\"], \"Left Parotid Orig\")\n",
    "vis.add_contour(label_deformed, \"Left Parotid Contracted\")\n",
    "fig = vis.show()\n"
   ]
  },
  {
   "cell_type": "markdown",
   "metadata": {},
   "source": [
    "## Similarly this example demonstrates an extension\n",
    "\n",
    "The generate_field_asymmetric_extend function takes a structure and extends in each dimension individually (axial, coronal, sagittal)."
   ]
  },
  {
   "cell_type": "code",
   "execution_count": null,
   "metadata": {},
   "outputs": [],
   "source": [
    "label_deformed, dvf_transform, dvf_field = generate_field_asymmetric_extend(\n",
    "    structures[\"PAROTID_LEFT\"],\n",
    "    vector_asymmetric_extend=(-30, -15, 0),\n",
    "    gaussian_smooth=5\n",
    ")\n",
    "\n",
    "ct_deformed = apply_field(ct, dvf_transform, structure=False, default_value=-1000)\n",
    "\n",
    "vis = ImageVisualiser(image=ct, cut=get_com(structures[\"PAROTID_LEFT\"]), figure_size_in=6)\n",
    "vis.set_limits_from_label(label_deformed, expansion=[20, 60, 60])\n",
    "vis.add_comparison_overlay(ct_deformed)\n",
    "vis.add_vector_overlay(dvf_field, arrow_scale=0.25, subsample=(2,8,8), color_function=\"magnitude\")\n",
    "vis.add_contour(structures[\"PAROTID_LEFT\"], \"Left Parotid Orig\")\n",
    "vis.add_contour(label_deformed, \"Left Parotid Extended\")\n",
    "fig = vis.show()"
   ]
  },
  {
   "cell_type": "markdown",
   "metadata": {},
   "source": [
    "## In this example we generate a synthetic deformation to rotate the patient's head"
   ]
  },
  {
   "cell_type": "code",
   "execution_count": null,
   "metadata": {},
   "outputs": [],
   "source": [
    "deformed_ct, dvf_transform, dvf_field = generate_field_radial_bend(\n",
    "    ct,\n",
    "    external_mask,\n",
    "    (70,381,255),\n",
    "    axis_of_rotation=[-1, 2, 0],\n",
    "    scale=0.1\n",
    ")"
   ]
  },
  {
   "cell_type": "markdown",
   "metadata": {},
   "source": [
    "## And visualise..."
   ]
  },
  {
   "cell_type": "code",
   "execution_count": null,
   "metadata": {},
   "outputs": [],
   "source": [
    "vis = ImageVisualiser(image=ct, cut=(104, 255, 255), figure_size_in=10)\n",
    "vis.add_comparison_overlay(deformed_ct)\n",
    "vis.add_vector_overlay(dvf_field, arrow_scale=1, subsample=(4,12,12), color_function=\"magnitude\")\n",
    "vis.add_contour(external_mask, \"External\")\n",
    "fig = vis.show()"
   ]
  },
  {
   "cell_type": "markdown",
   "metadata": {},
   "source": [
    "## Finally, we can save the deformed image\n",
    "\n",
    "You can load the Nifti image in something like slicer. You can save masks in the same way. Check out the platipy documentation for information on how to convert Nifti back to DICOM."
   ]
  },
  {
   "cell_type": "code",
   "execution_count": null,
   "metadata": {},
   "outputs": [],
   "source": [
    "sitk.WriteImage(deformed_ct, \"deformed_ct.nii.gz\")"
   ]
  },
  {
   "cell_type": "code",
   "execution_count": null,
   "metadata": {},
   "outputs": [],
   "source": []
  }
 ],
 "metadata": {
  "kernelspec": {
   "display_name": "Python 3",
   "language": "python",
   "name": "python3"
  },
  "language_info": {
   "codemirror_mode": {
    "name": "ipython",
    "version": 3
   },
   "file_extension": ".py",
   "mimetype": "text/x-python",
   "name": "python",
   "nbconvert_exporter": "python",
   "pygments_lexer": "ipython3",
   "version": "3.6.9"
  }
 },
 "nbformat": 4,
 "nbformat_minor": 2
}