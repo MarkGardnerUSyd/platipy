{
 "cells": [
  {
   "cell_type": "markdown",
   "metadata": {},
   "source": [
    "# Synthetic Deformation Head and Neck Examples"
   ]
  },
  {
   "cell_type": "code",
   "execution_count": 1,
   "metadata": {},
   "outputs": [],
   "source": [
    "try:\n",
    "    import platipy\n",
    "except:\n",
    "    !pip install git+https://github.com/pyplati/platipy.git\n",
    "    import platipy\n",
    "\n",
    "import re\n",
    "from pathlib import Path\n",
    "\n",
    "import SimpleITK as sitk\n",
    "\n",
    "from platipy.imaging.tests.data import get_hn_nifti\n",
    "\n",
    "from platipy.imaging.registration.utils import apply_transform\n",
    "\n",
    "from platipy.imaging.visualisation.visualiser import ImageVisualiser\n",
    "from platipy.imaging.visualisation.utils import project_onto_arbitrary_plane\n",
    "from platipy.imaging.visualisation.animation import generate_animation_from_image_sequence\n",
    "\n",
    "from platipy.imaging.utils.crop import label_to_roi\n",
    "from platipy.imaging.label.utils import get_com\n",
    "\n",
    "from platipy.imaging.tests.data import get_lung_nifti\n",
    "\n",
    "from platipy.imaging.generation.mask import (\n",
    "get_bone_mask,\n",
    "get_external_mask\n",
    ")\n",
    "\n",
    "from platipy.imaging.generation.dvf import (\n",
    "generate_field_shift,\n",
    "generate_field_asymmetric_contract,\n",
    "generate_field_asymmetric_extend,\n",
    "generate_field_expand,\n",
    "generate_field_radial_bend\n",
    ")\n"
   ]
  },
  {
   "cell_type": "markdown",
   "metadata": {},
   "source": [
    "## First grab some Head & Neck test data\n",
    "\n",
    "In the below cell we fetch some HN data in Nifti format"
   ]
  },
  {
   "cell_type": "code",
   "execution_count": null,
   "metadata": {
    "tags": [
     "outputPrepend"
    ]
   },
   "outputs": [],
   "source": [
    "data = get_hn_nifti()"
   ]
  },
  {
   "cell_type": "markdown",
   "metadata": {},
   "source": [
    "## Let's load the CT Image and structures\n",
    "\n",
    "We also generate an external mask and a bone mask for use later on."
   ]
  },
  {
   "cell_type": "code",
   "execution_count": null,
   "metadata": {},
   "outputs": [],
   "source": [
    "test_pat_path = data.joinpath(\"TCGA_CV_5977\")\n",
    "\n",
    "ct = sitk.ReadImage(str(test_pat_path.joinpath(\"IMAGES/TCGA_CV_5977_1_CT_ONC_NECK_NECK_4.nii.gz\")))\n",
    "\n",
    "structure_names =[\"BRAINSTEM\", \"MANDIBLE\", \"CTV_60_GY\", \"PTV60\", \"CORD\", \"L_PAROTID\", \"R_PAROTID\"]\n",
    "\n",
    "structures = {\n",
    "    s: sitk.ReadImage(str(test_pat_path.joinpath(\"STRUCTURES\", f\"TCGA_CV_5977_1_RTSTRUCT_{s}.nii.gz\"))) for s in structure_names\n",
    "}\n",
    "\n",
    "external_mask = get_external_mask(ct, dilate=15)\n",
    "bone_mask = get_bone_mask(ct)"
   ]
  },
  {
   "cell_type": "markdown",
   "metadata": {},
   "source": [
    "## Before we jump in to the the synthetic deformations, here's a tip on getting more information\n",
    "\n",
    "If you're unsure what a particular function does, you can view the docstring like in the following cell:"
   ]
  },
  {
   "cell_type": "code",
   "execution_count": null,
   "metadata": {},
   "outputs": [],
   "source": [
    "generate_field_shift?"
   ]
  },
  {
   "cell_type": "markdown",
   "metadata": {},
   "source": [
    "## Now we can generate a synthetic deformation\n",
    "\n",
    "In the cell below, one of the structures (here the Left Parotid). We define a vector shift and then apply smoothing for more realistic deformation.\n",
    "\n",
    "Finally, the ct image is deformed using the synthetic field. We also visualise each of these in the notebook using platipy's visualisation tools."
   ]
  },
  {
   "cell_type": "code",
   "execution_count": null,
   "metadata": {},
   "outputs": [],
   "source": [
    "label_deformed, dvf_transform, dvf_field = generate_field_shift(\n",
    "    structures[\"L_PAROTID\"],\n",
    "    vector_shift=(-20,0,0),\n",
    "    gaussian_smooth=5\n",
    ")\n",
    "ct_deformed = apply_transform(ct, transform=dvf_transform, default_value=-1000, interpolator=sitk.sitkLinear)\n",
    "\n",
    "vis = ImageVisualiser(image=ct, cut=get_com(structures[\"L_PAROTID\"]), figure_size_in=6)\n",
    "vis.set_limits_from_label(label_deformed, expansion=[20, 60, 60])\n",
    "vis.add_comparison_overlay(ct_deformed)\n",
    "vis.add_vector_overlay(dvf_field, arrow_scale=0.25, subsample=(2,8,8), color_function=\"magnitude\")\n",
    "vis.add_contour(label_deformed, \"Left Parotid Shifted\")\n",
    "vis.add_contour(structures[\"L_PAROTID\"], \"Left Parotid Orig\")\n",
    "fig = vis.show()"
   ]
  },
  {
   "cell_type": "markdown",
   "metadata": {},
   "source": [
    "## To apply the same synthetic deformation to all structures, you can use the following code\n",
    "\n",
    "This uses the same apply_transform function as was used to deform the CT above."
   ]
  },
  {
   "cell_type": "code",
   "execution_count": null,
   "metadata": {},
   "outputs": [],
   "source": [
    "deformed_structures = {}\n",
    "for struct in structures:\n",
    "    print(f\"Deforming: {struct}\")\n",
    "    deformed_structures[struct] = apply_transform(structures[struct], transform=dvf_transform, default_value=0, interpolator=sitk.sitkNearestNeighbor)"
   ]
  },
  {
   "cell_type": "markdown",
   "metadata": {},
   "source": [
    "## Now we'll do an expansion\n",
    "\n",
    "Once again on the Left Parotid. The generate_field_expand function takes a structure and expands or shrinks the structure.\n",
    "The variable *expand* defines the expansion (or shrinking) in mm.\n",
    "It can also be defined as a 3D vector, in which case the expansion is anisotropic."
   ]
  },
  {
   "cell_type": "code",
   "execution_count": null,
   "metadata": {},
   "outputs": [],
   "source": [
    "label_deformed, dvf_transform, dvf_field = generate_field_expand(structures[\"L_PAROTID\"], bone_mask=bone_mask, expand=10, gaussian_smooth=5)\n",
    "\n",
    "ct_deformed = apply_transform(ct, transform=dvf_transform, default_value=-1000, interpolator=sitk.sitkLinear)\n",
    "\n",
    "vis = ImageVisualiser(image=ct, cut=get_com(structures[\"L_PAROTID\"]), figure_size_in=6)\n",
    "vis.set_limits_from_label(label_deformed, expansion=[20, 60, 60])\n",
    "vis.add_comparison_overlay(ct_deformed)\n",
    "vis.add_vector_overlay(dvf_field, arrow_scale=0.25, subsample=(2,8,8), color_function=\"magnitude\")\n",
    "vis.add_contour(structures[\"L_PAROTID\"], \"Left Parotid Orig\")\n",
    "vis.add_contour(label_deformed, \"Left Parotid Expanded\")\n",
    "fig = vis.show()"
   ]
  },
  {
   "cell_type": "markdown",
   "metadata": {},
   "source": [
    "## The same function can be used to expand/shrink in different directions"
   ]
  },
  {
   "cell_type": "code",
   "execution_count": null,
   "metadata": {},
   "outputs": [],
   "source": [
    "label_deformed, dvf_transform, dvf_field = generate_field_expand(structures[\"L_PAROTID\"], bone_mask=bone_mask, expand=[20, 0, -10], gaussian_smooth=2)\n",
    "\n",
    "ct_deformed = apply_transform(ct, transform=dvf_transform, default_value=-1000, interpolator=sitk.sitkLinear)\n",
    "\n",
    "vis = ImageVisualiser(image=ct, cut=get_com(structures[\"L_PAROTID\"]), figure_size_in=6)\n",
    "vis.set_limits_from_label(label_deformed, expansion=[20, 60, 60])\n",
    "vis.add_comparison_overlay(ct_deformed)\n",
    "vis.add_vector_overlay(dvf_field, arrow_scale=0.25, subsample=(2,8,8), color_function=\"magnitude\")\n",
    "vis.add_contour(structures[\"L_PAROTID\"], \"Left Parotid Orig\")\n",
    "vis.add_contour(label_deformed, \"Left Parotid Shrunk\")\n",
    "fig = vis.show()"
   ]
  },
  {
   "cell_type": "markdown",
   "metadata": {},
   "source": [
    "## This next example demonstrates an asymmetric contraction\n",
    "\n",
    "The generate_field_asymmetric_contract function takes a structure and contracts in each dimension individually (axial, coronal, sagittal)."
   ]
  },
  {
   "cell_type": "code",
   "execution_count": null,
   "metadata": {},
   "outputs": [],
   "source": [
    "label_deformed, dvf_transform, dvf_field = generate_field_asymmetric_contract(\n",
    "    structures[\"L_PAROTID\"],\n",
    "    vector_asymmetric_contract=(-20,10,0),\n",
    "    gaussian_smooth=5\n",
    ")\n",
    "\n",
    "ct_deformed = apply_transform(ct, transform=dvf_transform, default_value=-1000, interpolator=sitk.sitkLinear)\n",
    "\n",
    "vis = ImageVisualiser(image=ct, cut=get_com(structures[\"L_PAROTID\"]), figure_size_in=6)\n",
    "vis.set_limits_from_label(label_deformed, expansion=[20, 60, 60])\n",
    "vis.add_comparison_overlay(ct_deformed)\n",
    "vis.add_vector_overlay(dvf_field, arrow_scale=0.25, subsample=(2,8,8), color_function=\"magnitude\")\n",
    "vis.add_contour(structures[\"L_PAROTID\"], \"Left Parotid Orig\")\n",
    "vis.add_contour(label_deformed, \"Left Parotid Contracted\")\n",
    "fig = vis.show()\n"
   ]
  },
  {
   "cell_type": "markdown",
   "metadata": {},
   "source": [
    "## Similarly this example demonstrates an extension\n",
    "\n",
    "The generate_field_asymmetric_extend function takes a structure and extends in each dimension individually (axial, coronal, sagittal)."
   ]
  },
  {
   "cell_type": "code",
   "execution_count": null,
   "metadata": {},
   "outputs": [],
   "source": [
    "label_deformed, dvf_transform, dvf_field = generate_field_asymmetric_extend(\n",
    "    structures[\"L_PAROTID\"],\n",
    "    vector_asymmetric_extend=(-30, -15, 0),\n",
    "    gaussian_smooth=5\n",
    ")\n",
    "\n",
    "ct_deformed = apply_transform(ct, transform=dvf_transform, default_value=-1000, interpolator=sitk.sitkLinear)\n",
    "\n",
    "vis = ImageVisualiser(image=ct, cut=get_com(structures[\"L_PAROTID\"]), figure_size_in=6)\n",
    "vis.set_limits_from_label(label_deformed, expansion=[20, 60, 60])\n",
    "vis.add_comparison_overlay(ct_deformed)\n",
    "vis.add_vector_overlay(dvf_field, arrow_scale=0.25, subsample=(2,8,8), color_function=\"magnitude\")\n",
    "vis.add_contour(structures[\"L_PAROTID\"], \"Left Parotid Orig\")\n",
    "vis.add_contour(label_deformed, \"Left Parotid Extended\")\n",
    "fig = vis.show()"
   ]
  },
  {
   "cell_type": "markdown",
   "metadata": {},
   "source": [
    "## In this example we generate a synthetic deformation to rotate the patient's head"
   ]
  },
  {
   "cell_type": "code",
   "execution_count": null,
   "metadata": {},
   "outputs": [],
   "source": [
    "deformed_ct, dvf_transform, dvf_field = generate_field_radial_bend(\n",
    "    ct,\n",
    "    external_mask,\n",
    "    (70,381,255),\n",
    "    axis_of_rotation=[-1, 2, 0],\n",
    "    scale=0.1\n",
    ")"
   ]
  },
  {
   "cell_type": "markdown",
   "metadata": {},
   "source": [
    "## And visualise..."
   ]
  },
  {
   "cell_type": "code",
   "execution_count": null,
   "metadata": {},
   "outputs": [],
   "source": [
    "vis = ImageVisualiser(image=ct, cut=(104, 255, 255), figure_size_in=10)\n",
    "vis.add_comparison_overlay(deformed_ct)\n",
    "vis.add_vector_overlay(dvf_field, arrow_scale=1, subsample=(4,12,12), color_function=\"magnitude\")\n",
    "vis.add_contour(external_mask, \"External\")\n",
    "fig = vis.show()"
   ]
  },
  {
   "cell_type": "markdown",
   "metadata": {},
   "source": [
    "## Finally, we can save the deformed image\n",
    "\n",
    "You can load the Nifti image in something like slicer. You can save masks in the same way. Check out the platipy documentation for information on how to convert Nifti back to DICOM."
   ]
  },
  {
   "cell_type": "code",
   "execution_count": null,
   "metadata": {},
   "outputs": [],
   "source": [
    "sitk.WriteImage(deformed_ct, \"deformed_ct.nii.gz\")"
   ]
  },
  {
   "cell_type": "code",
   "execution_count": null,
   "metadata": {},
   "outputs": [],
   "source": []
  }
 ],
 "metadata": {
  "kernelspec": {
   "display_name": "Python 3.8.0 ('platipy-Ut1mjAmS-py3.8')",
   "language": "python",
   "name": "python3"
  },
  "language_info": {
   "codemirror_mode": {
    "name": "ipython",
    "version": 3
   },
   "file_extension": ".py",
   "mimetype": "text/x-python",
   "name": "python",
   "nbconvert_exporter": "python",
   "pygments_lexer": "ipython3",
   "version": "3.8.0"
  },
  "vscode": {
   "interpreter": {
    "hash": "950d949bcc8447743ba2e2f4f81e1f06919534c5bd1d053b1a2c5f1f73baee7b"
   }
  }
 },
 "nbformat": 4,
 "nbformat_minor": 2
}
