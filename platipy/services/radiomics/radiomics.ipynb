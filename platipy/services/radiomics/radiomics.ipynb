{
 "cells": [
  {
   "cell_type": "markdown",
   "metadata": {},
   "source": [
    "# Radiomics Service Client Example\n",
    "\n",
    "This Jupyter Notebook demonstrates how to connect to a running radiomics service."
   ]
  },
  {
   "cell_type": "code",
   "execution_count": null,
   "metadata": {},
   "outputs": [],
   "source": [
    "import numpy as np\n",
    "import SimpleITK as sitk\n",
    "\n",
    "from pathlib import Path\n",
    "\n",
    "from platipy.dicom.download.tcia import get_collections, get_patients_in_collection, fetch_data\n",
    "from platipy.dicom.dicom_directory_crawler.conversion_utils import process_dicom_directory\n",
    "from platipy.backend.client import PlatiPyClient"
   ]
  },
  {
   "cell_type": "code",
   "execution_count": null,
   "metadata": {},
   "outputs": [],
   "source": [
    "client = PlatiPyClient(\"127.0.0.1\", 8000, \"c4df42d4-b7f4-48ba-aaea-921452ceb5a6\", \"PyRadiomics Extractor\")"
   ]
  },
  {
   "cell_type": "code",
   "execution_count": null,
   "metadata": {
    "tags": []
   },
   "outputs": [],
   "source": [
    "\n",
    "collections = get_collections()\n",
    "collection = \"LCTSC\"\n",
    "collection in collections\n",
    "\n",
    "patients = get_patients_in_collection(collection)\n",
    "patient_ids = patients[0:2]\n",
    "\n",
    "dicom_data = fetch_data(collection, patient_ids=patient_ids, output_directory=\"./data\")\n"
   ]
  },
  {
   "cell_type": "code",
   "execution_count": null,
   "metadata": {},
   "outputs": [],
   "source": [
    "data_path = Path(f\"data/LCTSC\")\n",
    "\n",
    "dataset = client.add_dataset()\n",
    "\n",
    "for patient_path in data_path.glob(\"*\"):\n",
    "    ct_image = next(patient_path.glob(\"NIFTI/*/IMAGES/*\"))\n",
    "    structures = patient_path.glob(\"NIFTI/*/STRUCTURES/*\")\n",
    "\n",
    "    img_obj = client.add_data_object(dataset, file_path=str(ct_image), meta_data={\"patid\": patient_path.name})\n",
    "    for structure in structures:\n",
    "        s = client.add_data_object(dataset, parent=img_obj, file_path=str(structure))"
   ]
  },
  {
   "cell_type": "code",
   "execution_count": null,
   "metadata": {},
   "outputs": [],
   "source": [
    "settings = client.get_default_settings()\n",
    "settings[\"radiomics\"] = {\"firstorder\": [\"10Percentile\",\"90Percentile\",\"Energy\",\"Entropy\",\"InterquartileRange\",\"Kurtosis\",\"Maximum\"],\n",
    "\"shape\": [\"VoxelVolume\", \"SurfaceArea\"],\n",
    "\"custom\": [\"25Percentile\"]}"
   ]
  },
  {
   "cell_type": "code",
   "execution_count": null,
   "metadata": {
    "tags": []
   },
   "outputs": [],
   "source": [
    "for i in client.run_algorithm(dataset, config=settings):\n",
    "    print(i)"
   ]
  },
  {
   "cell_type": "code",
   "execution_count": null,
   "metadata": {},
   "outputs": [],
   "source": [
    "client.download_output_objects(dataset)"
   ]
  },
  {
   "cell_type": "code",
   "execution_count": null,
   "metadata": {},
   "outputs": [],
   "source": []
  }
 ],
 "metadata": {
  "kernelspec": {
   "display_name": "Python 3.6.9 64-bit",
   "metadata": {
    "interpreter": {
     "hash": "767d51c1340bd893661ea55ea3124f6de3c7a262a8b4abca0554b478b1e2ff90"
    }
   },
   "name": "python3"
  },
  "language_info": {
   "codemirror_mode": {
    "name": "ipython",
    "version": 3
   },
   "file_extension": ".py",
   "mimetype": "text/x-python",
   "name": "python",
   "nbconvert_exporter": "python",
   "pygments_lexer": "ipython3",
   "version": "3.6.9-final"
  }
 },
 "nbformat": 4,
 "nbformat_minor": 2
}
